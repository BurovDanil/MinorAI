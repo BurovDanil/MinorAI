{
 "cells": [
  {
   "cell_type": "markdown",
   "metadata": {},
   "source": [
    "# UFC prediction model"
   ]
  },
  {
   "cell_type": "code",
   "execution_count": 6,
   "metadata": {},
   "outputs": [],
   "source": [
    "\n",
    "import pandas as pd\n",
    "from sklearn.model_selection import train_test_split\n",
    "from sklearn.ensemble import RandomForestClassifier\n",
    "from sklearn.metrics import accuracy_score\n"
   ]
  },
  {
   "cell_type": "code",
   "execution_count": 13,
   "metadata": {},
   "outputs": [
    {
     "name": "stdout",
     "output_type": "stream",
     "text": [
      "               name               nickname  wins  losses  draws  height_cm  \\\n",
      "0   Robert Drysdale                    NaN     7       0      0     190.50   \n",
      "4   Collin Huckbody                 All In     8       2      0     190.50   \n",
      "5  Gerald Strebendt  The Finishing Machine     9       7      0     175.26   \n",
      "8         Will Kerr                    NaN     9       3      0     177.80   \n",
      "9        Neil Grove                Goliath    12       8      1     198.12   \n",
      "\n",
      "   weight_in_kg  reach_in_cm    stance date_of_birth  \\\n",
      "0         92.99          NaN  Orthodox    1981-10-05   \n",
      "4         83.91       193.04  Orthodox    1994-09-29   \n",
      "5         70.31          NaN  Orthodox    1979-03-01   \n",
      "8         70.31       175.26  Orthodox    1982-10-21   \n",
      "9        120.20          NaN  Orthodox    1971-01-18   \n",
      "\n",
      "   significant_strikes_landed_per_minute  significant_striking_accuracy  \\\n",
      "0                                   0.00                            0.0   \n",
      "4                                   2.05                           60.0   \n",
      "5                                   0.00                            0.0   \n",
      "8                                   1.91                           42.0   \n",
      "9                                   0.00                            0.0   \n",
      "\n",
      "   significant_strikes_absorbed_per_minute  significant_strike_defence  \\\n",
      "0                                     0.00                         0.0   \n",
      "4                                     2.73                        42.0   \n",
      "5                                     4.00                        38.0   \n",
      "8                                     6.22                        33.0   \n",
      "9                                     0.00                         0.0   \n",
      "\n",
      "   average_takedowns_landed_per_15_minutes  takedown_accuracy  \\\n",
      "0                                     7.32              100.0   \n",
      "4                                    10.23              100.0   \n",
      "5                                     0.00                0.0   \n",
      "8                                     0.00                0.0   \n",
      "9                                     0.00                0.0   \n",
      "\n",
      "   takedown_defense  average_submissions_attempted_per_15_minutes  \n",
      "0               0.0                                          21.9  \n",
      "4               0.0                                          20.4  \n",
      "5               0.0                                          16.4  \n",
      "8               0.0                                          14.3  \n",
      "9             100.0                                          14.3  \n"
     ]
    }
   ],
   "source": [
    "import pandas as pd\n",
    "\n",
    "#Make sure that there are no fighters after 1970\n",
    "\n",
    "df = pd.read_csv('ufc-fighters-statistics.csv')\n",
    "df['date_of_birth'] = pd.to_datetime(df['date_of_birth'], errors='coerce')\n",
    "\n",
    "df = df[df['date_of_birth'].dt.year > 1970]\n",
    "\n",
    "df.to_csv('cleaned_ufc_fighters.csv', index=False)\n",
    "\n",
    "print(df.head())"
   ]
  },
  {
   "cell_type": "markdown",
   "metadata": {},
   "source": [
    "# Section 1"
   ]
  },
  {
   "cell_type": "markdown",
   "metadata": {},
   "source": [
    "## Nested section"
   ]
  },
  {
   "cell_type": "markdown",
   "metadata": {},
   "source": [
    "# Section 2"
   ]
  },
  {
   "cell_type": "markdown",
   "metadata": {},
   "source": [
    "## Nested section"
   ]
  }
 ],
 "metadata": {
  "kernelspec": {
   "display_name": "Python 3",
   "language": "python",
   "name": "python3"
  },
  "language_info": {
   "codemirror_mode": {
    "name": "ipython",
    "version": 3
   },
   "file_extension": ".py",
   "mimetype": "text/x-python",
   "name": "python",
   "nbconvert_exporter": "python",
   "pygments_lexer": "ipython3",
   "version": "3.11.1"
  }
 },
 "nbformat": 4,
 "nbformat_minor": 2
}
