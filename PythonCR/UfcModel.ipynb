{
 "cells": [
  {
   "metadata": {},
   "cell_type": "markdown",
   "source": "# Imports"
  },
  {
   "metadata": {},
   "cell_type": "code",
   "source": [
    "import requests\n",
    "from bs4 import BeautifulSoup\n",
    "import pandas as pd\n",
    "import matplotlib.pyplot as plt\n",
    "import seaborn as sns\n",
    "import os\n",
    "import numpy as np\n",
    "\n",
    "#Modelling\n",
    "from sklearn.model_selection import train_test_split\n",
    "from sklearn.linear_model import LogisticRegression\n",
    "from sklearn.metrics import classification_report, confusion_matrix, ConfusionMatrixDisplay\n",
    "from sklearn.preprocessing import StandardScaler\n",
    "from sklearn.metrics import r2_score, classification_report, confusion_matrix, ConfusionMatrixDisplay,mean_squared_error\n",
    "from sklearn.metrics import accuracy_score\n",
    "from sklearn.ensemble import RandomForestRegressor,RandomForestClassifier\n",
    "from sklearn.model_selection import GridSearchCV\n",
    "from sklearn.neighbors import KNeighborsClassifier\n",
    "from sklearn.svm import SVR\n",
    "from collections import Counter\n",
    "from imblearn.under_sampling import RandomUnderSampler\n",
    "\n",
    "# Oversampling, undersampling, hyperparameter tuning\n",
    "from sklearn.utils import resample\n",
    "from imblearn.over_sampling import SMOTE\n",
    "from sklearn.model_selection import GridSearchCV"
   ],
   "outputs": [],
   "execution_count": null
  },
  {
   "cell_type": "markdown",
   "metadata": {},
   "source": [
    "# Scraper for a fighters' specific data"
   ]
  },
  {
   "cell_type": "markdown",
   "metadata": {},
   "source": [
    "## Screenshot of table one\n",
    "![Statistics table one](Images/statistics_table_one.png)\n",
    "\n",
    "## Screenshot of table two\n",
    "![Statistics table two](Images/statistics_table_two.png)"
   ]
  },
  {
   "cell_type": "markdown",
   "metadata": {},
   "source": [
    "## Method for scraping fighter specific data"
   ]
  },
  {
   "cell_type": "code",
   "metadata": {
    "ExecuteTime": {
     "end_time": "2025-01-06T14:15:08.535345Z",
     "start_time": "2025-01-06T14:15:08.310722Z"
    }
   },
   "source": [
    "def scrape_fighter_URL(fighter_url):\n",
    "    try:\n",
    "        response = requests.get(fighter_url)\n",
    "\n",
    "        soup = BeautifulSoup(response.content, 'html.parser')\n",
    "\n",
    "        #Try finding the stats table using the BeautifulSoup, pass the name of the div of the DOM\n",
    "        stats_table_one = soup.find('div', class_='b-list__info-box-left clearfix')\n",
    "        \n",
    "        #Since there are two tables that contain the fighter statistics I need to scrape both the divs\n",
    "        stats_table_two = soup.find('div', class_='b-list__info-box-right b-list__info-box_style-margin-right')\n",
    "        \n",
    "        # A variable to store the data\n",
    "        statistics = {}\n",
    "        \n",
    "        if stats_table_one:\n",
    "            # Thats the div that contains the stats\n",
    "            stats_list_one = stats_table_one.find('ul', class_='b-list__box-list b-list__box-list_margin-top')\n",
    "            # If a the div with the stats is found we iterate through each entry and store it in the statistics datastructure\n",
    "            if stats_list_one:\n",
    "                for item in stats_list_one.find_all('li', class_='b-list__box-list-item b-list__box-list-item_type_block'):\n",
    "                    # Extract the text from the list item\n",
    "                    stat_text_one = item.get_text(strip=True)\n",
    "                    # print(stat_text_one)\n",
    "                    if ':' in stat_text_one:\n",
    "                        key, value = [s.strip() for s in stat_text_one.split(':', 1)]\n",
    "                        statistics[key] = value\n",
    "        if stats_table_two:\n",
    "            stats_list_two = stats_table_two.find('ul', class_='b-list__box-list b-list__box-list_margin-top')\n",
    "            if stats_list_two:\n",
    "                for item in stats_list_two.find_all('li', class_='b-list__box-list-item b-list__box-list-item_type_block'):\n",
    "                    stat_text_two = item.get_text(strip=True)\n",
    "                    # print(stat_text_two)\n",
    "                    if ':' in stat_text_two:\n",
    "                        key, value = [s.strip() for s in stat_text_two.split(':', 1)]\n",
    "                        statistics[key] = value\n",
    "                    \n",
    "            return statistics if statistics else None\n",
    "        else:\n",
    "            print(\"Statistics section not found.\")\n",
    "            return None\n",
    "\n",
    "    except requests.exceptions.RequestException as e:\n",
    "        print(f\"Error fetching the fighter's page: {e}\")\n",
    "        return None\n",
    "\n",
    "# # Example usage\n",
    "fighter_url = \"http://ufcstats.com/fighter-details/15df64c02b6b0fde\"  # Replace with the actual fighter URL\n",
    "fighter_statistics = scrape_fighter_URL(fighter_url)\n",
    "print(fighter_statistics)"
   ],
   "outputs": [
    {
     "ename": "NameError",
     "evalue": "name 'requests' is not defined",
     "output_type": "error",
     "traceback": [
      "\u001B[1;31m---------------------------------------------------------------------------\u001B[0m",
      "\u001B[1;31mNameError\u001B[0m                                 Traceback (most recent call last)",
      "Cell \u001B[1;32mIn[1], line 3\u001B[0m, in \u001B[0;36mscrape_fighter_URL\u001B[1;34m(fighter_url)\u001B[0m\n\u001B[0;32m      2\u001B[0m \u001B[38;5;28;01mtry\u001B[39;00m:\n\u001B[1;32m----> 3\u001B[0m     response \u001B[38;5;241m=\u001B[39m \u001B[43mrequests\u001B[49m\u001B[38;5;241m.\u001B[39mget(fighter_url)\n\u001B[0;32m      5\u001B[0m     soup \u001B[38;5;241m=\u001B[39m BeautifulSoup(response\u001B[38;5;241m.\u001B[39mcontent, \u001B[38;5;124m'\u001B[39m\u001B[38;5;124mhtml.parser\u001B[39m\u001B[38;5;124m'\u001B[39m)\n",
      "\u001B[1;31mNameError\u001B[0m: name 'requests' is not defined",
      "\nDuring handling of the above exception, another exception occurred:\n",
      "\u001B[1;31mNameError\u001B[0m                                 Traceback (most recent call last)",
      "Cell \u001B[1;32mIn[1], line 49\u001B[0m\n\u001B[0;32m     47\u001B[0m \u001B[38;5;66;03m# # Example usage\u001B[39;00m\n\u001B[0;32m     48\u001B[0m fighter_url \u001B[38;5;241m=\u001B[39m \u001B[38;5;124m\"\u001B[39m\u001B[38;5;124mhttp://ufcstats.com/fighter-details/15df64c02b6b0fde\u001B[39m\u001B[38;5;124m\"\u001B[39m  \u001B[38;5;66;03m# Replace with the actual fighter URL\u001B[39;00m\n\u001B[1;32m---> 49\u001B[0m fighter_statistics \u001B[38;5;241m=\u001B[39m \u001B[43mscrape_fighter_URL\u001B[49m\u001B[43m(\u001B[49m\u001B[43mfighter_url\u001B[49m\u001B[43m)\u001B[49m\n\u001B[0;32m     50\u001B[0m \u001B[38;5;28mprint\u001B[39m(fighter_statistics)\n",
      "Cell \u001B[1;32mIn[1], line 43\u001B[0m, in \u001B[0;36mscrape_fighter_URL\u001B[1;34m(fighter_url)\u001B[0m\n\u001B[0;32m     40\u001B[0m         \u001B[38;5;28mprint\u001B[39m(\u001B[38;5;124m\"\u001B[39m\u001B[38;5;124mStatistics section not found.\u001B[39m\u001B[38;5;124m\"\u001B[39m)\n\u001B[0;32m     41\u001B[0m         \u001B[38;5;28;01mreturn\u001B[39;00m \u001B[38;5;28;01mNone\u001B[39;00m\n\u001B[1;32m---> 43\u001B[0m \u001B[38;5;28;01mexcept\u001B[39;00m \u001B[43mrequests\u001B[49m\u001B[38;5;241m.\u001B[39mexceptions\u001B[38;5;241m.\u001B[39mRequestException \u001B[38;5;28;01mas\u001B[39;00m e:\n\u001B[0;32m     44\u001B[0m     \u001B[38;5;28mprint\u001B[39m(\u001B[38;5;124mf\u001B[39m\u001B[38;5;124m\"\u001B[39m\u001B[38;5;124mError fetching the fighter\u001B[39m\u001B[38;5;124m'\u001B[39m\u001B[38;5;124ms page: \u001B[39m\u001B[38;5;132;01m{\u001B[39;00me\u001B[38;5;132;01m}\u001B[39;00m\u001B[38;5;124m\"\u001B[39m)\n\u001B[0;32m     45\u001B[0m     \u001B[38;5;28;01mreturn\u001B[39;00m \u001B[38;5;28;01mNone\u001B[39;00m\n",
      "\u001B[1;31mNameError\u001B[0m: name 'requests' is not defined"
     ]
    }
   ],
   "execution_count": 1
  },
  {
   "cell_type": "markdown",
   "metadata": {},
   "source": [
    "# Scrapper for UFC data"
   ]
  },
  {
   "cell_type": "markdown",
   "metadata": {},
   "source": [
    "### Code for scraping the UFC statistics website"
   ]
  },
  {
   "cell_type": "code",
   "metadata": {},
   "source": [
    "# URL = \"http://ufcstats.com/statistics/fighters?char=a&page=all\"\n",
    "# page = requests.get(URL)\n",
    "#\n",
    "# soup = BeautifulSoup(page.content, \"html.parser\")\n",
    "#\n",
    "# table = soup.find('table', class_='b-statistics__table')\n",
    "#\n",
    "# data = []\n",
    "# data_specific_fighter = []\n",
    "#\n",
    "# for row in table.find_all('tr', class_='b-statistics__table-row'):\n",
    "#     cells = row.find_all('td')\n",
    "#     cell_value = [cell.get_text(strip=True) for cell in cells]\n",
    "#\n",
    "#     data.append(cell_value)\n",
    "#\n",
    "#     fighter_link = row.select_one('td a')\n",
    "#\n",
    "#     if fighter_link and fighter_link.has_attr('href'):\n",
    "#         fighter_url = fighter_link.get('href')\n",
    "#\n",
    "#         #this already should store the specific data for the fighter\n",
    "#         data_specific_fighter = scrape_fighter_URL(fighter_url)\n",
    "#\n",
    "#         data.append(data_specific_fighter)\n",
    "#\n",
    "#         df= pd.DataFrame(data)\n",
    "#\n",
    "#         df.to_excel('all_fighters(A).xlsx', index=False)\n",
    "#"
   ],
   "outputs": [],
   "execution_count": null
  },
  {
   "cell_type": "code",
   "metadata": {},
   "source": [
    "URL = \"http://ufcstats.com/statistics/fighters?char=g&page=all\"\n",
    "page = requests.get(URL)\n",
    "soup = BeautifulSoup(page.content, \"html.parser\")\n",
    "\n",
    "table = soup.find('table', class_='b-statistics__table')\n",
    "\n",
    "# List to store combined data for all fighters\n",
    "all_fighters_data = []\n",
    "\n",
    "# Iterate through each row of the table to collect data\n",
    "for row in table.find_all('tr', class_='b-statistics__table-row'):\n",
    "    cells = row.find_all('td')\n",
    "\n",
    "    # Extract the general information from the main page\n",
    "    if len(cells) >= 8:\n",
    "        # Split the name into first and last (assuming first and last name)\n",
    "        first_name = cells[0].get_text(strip=True)\n",
    "        last_name = cells[1].getText(strip=True)\n",
    "        nickname = cells[2].getText(strip=True)\n",
    "        height = cells[3].getText(strip=True)\n",
    "        weight = cells[4].getText(strip=True)\n",
    "        reach = cells[5].getText(strip=True)\n",
    "        stance = cells[6].getText(strip=True)\n",
    "        wins = cells[7].getText(strip=True)\n",
    "        losses = cells[8].getText(strip=True)\n",
    "        draws = cells[9].getText(strip=True)\n",
    "\n",
    "        # Create a list to store all data in a single row\n",
    "        fighter_data = [\n",
    "            first_name,\n",
    "            last_name,\n",
    "            nickname,\n",
    "            height,\n",
    "            weight,\n",
    "            reach,\n",
    "            stance,\n",
    "            wins,\n",
    "            losses,\n",
    "            draws\n",
    "        ]\n",
    "\n",
    "        # Find the fighter's profile link and scrape specific fighter data\n",
    "        fighter_link = cells[0].find('a')\n",
    "        if fighter_link and fighter_link.has_attr('href'):\n",
    "            fighter_url = fighter_link['href']\n",
    "            specific_fighter_data = scrape_fighter_URL(fighter_url)\n",
    "\n",
    "            # Extract specific stats and append to fighter data\n",
    "            specific_stats = [\n",
    "                specific_fighter_data.get('SLpM', None),\n",
    "                specific_fighter_data.get('Str. Acc.', None),\n",
    "                specific_fighter_data.get('SApM', None),\n",
    "                specific_fighter_data.get('Str. Def', None),\n",
    "                specific_fighter_data.get('TD Avg.', None),\n",
    "                specific_fighter_data.get('TD Def.', None),\n",
    "                specific_fighter_data.get('Sub. Avg.', None)\n",
    "            ]\n",
    "            fighter_data.extend(specific_stats)\n",
    "\n",
    "        # Append the complete data for the fighter as a single row\n",
    "        all_fighters_data.append(fighter_data)\n",
    "\n",
    "# Define column names\n",
    "column_names = [\n",
    "    \"First Name\", \"Last Name\", \"Nickname\", \"Height\", \"Weight\", \"Reach\", \"Stance\", \"W\", \"L\", \"D\",\n",
    "    \"SLpM\", \"Str. Acc.\", \"SApM\", \"Str. Def\", \"TD Avg.\", \"TD Def.\", \"Sub. Avg.\"\n",
    "]\n",
    "\n",
    "# Create a DataFrame from the combined data\n",
    "df = pd.DataFrame(all_fighters_data, columns=column_names)\n",
    "\n",
    "# Save the DataFrame to an Excel file\n",
    "df.to_excel('all_fighters(G).xlsx', index=False)\n",
    "\n",
    "# Print the first few rows to verify\n",
    "print(df.head())"
   ],
   "outputs": [],
   "execution_count": null
  },
  {
   "cell_type": "markdown",
   "metadata": {},
   "source": [
    "### Combining the files"
   ]
  },
  {
   "cell_type": "code",
   "metadata": {},
   "source": [
    "# dfs = []\n",
    "# \n",
    "# # folder = \"Statistics\"\n",
    "# \n",
    "# path = os.path.join(os.getcwd(), folder)\n",
    "# \n",
    "# files = sorted(os.listdir(path))\n",
    "# \n",
    "# for file in files:\n",
    "#     if file.endswith(\".xlsx\"):\n",
    "#         file_path = os.path.join(path, file)\n",
    "#         \n",
    "#         df = pd.read_excel(file_path)\n",
    "#         \n",
    "#         dfs.append(df)\n",
    "#         \n",
    "#         print(f\"Successfully read file: {file_path}\")\n",
    "#         \n",
    "# if dfs:\n",
    "#     combined_df = pd.concat(dfs, ignore_index=True)\n",
    "#     combined_df.to_excel('Combined_UFC_Fighter_Statistics.xlsx', index=False)\n",
    "#     print(\"Files combined and saved!\")\n",
    "# \n",
    "# combined_df.head()"
   ],
   "outputs": [],
   "execution_count": null
  },
  {
   "cell_type": "markdown",
   "metadata": {},
   "source": [
    "# UFC prediction model"
   ]
  },
  {
   "cell_type": "markdown",
   "metadata": {},
   "source": [
    "## Imports"
   ]
  },
  {
   "cell_type": "code",
   "metadata": {},
   "source": [
    "import pandas as pd\n",
    "from sklearn.model_selection import train_test_split\n",
    "from sklearn.ensemble import RandomForestClassifier\n",
    "from sklearn.metrics import accuracy_score"
   ],
   "outputs": [],
   "execution_count": null
  },
  {
   "cell_type": "markdown",
   "metadata": {},
   "source": [
    "## Normalizing"
   ]
  },
  {
   "metadata": {},
   "cell_type": "code",
   "source": [
    "combined_df = pd.read_excel('Combined_UFC_Fighter_Statistics.xlsx')\n",
    "\n",
    "combined_df.head()"
   ],
   "outputs": [],
   "execution_count": null
  },
  {
   "cell_type": "markdown",
   "metadata": {},
   "source": [
    "### Converting 'Height' and 'Reach' to centimeteres"
   ]
  },
  {
   "cell_type": "markdown",
   "metadata": {},
   "source": [
    "I have converted the 'Height' and 'Reach' features which were in inches to centimeters and rounded them to 0 for better readability"
   ]
  },
  {
   "cell_type": "code",
   "metadata": {},
   "source": [
    "import numpy as np\n",
    "\n",
    "# Convert heights from feet and inches to inches\n",
    "def height_to_inches(height):\n",
    "    if pd.isnull(height) or height == '--':\n",
    "        return np.nan\n",
    "    try:\n",
    "        feet, inches = height.split(\"'\")\n",
    "        inches = int(feet) * 12 + int(inches.strip('\"'))\n",
    "        return inches\n",
    "    except:\n",
    "        return np.nan\n",
    "\n",
    "# Apply the height conversion function\n",
    "combined_df['Height'] = combined_df['Height'].apply(height_to_inches)\n",
    "\n",
    "# Clean the Reach column by stripping the quotation marks and converting to float\n",
    "combined_df['Reach'] = combined_df['Reach'].str.rstrip('\"').replace('--', np.nan).astype(float)\n",
    "\n",
    "# Fill missing height and reach values with the mean of the respective columns and round them to 0\n",
    "combined_df['Height'].fillna(combined_df['Height'].mean(), inplace=True)\n",
    "combined_df['Reach'].fillna(combined_df['Reach'].mean(), inplace=True)\n",
    "\n",
    "# Round the Height and Reach columns to the nearest integer\n",
    "combined_df['Height'] = combined_df['Height'].round(0)\n",
    "combined_df['Reach'] = combined_df['Reach'].round(0)\n",
    "\n",
    "# Display the updated DataFrame\n",
    "combined_df.head()\n"
   ],
   "outputs": [],
   "execution_count": null
  },
  {
   "cell_type": "markdown",
   "metadata": {},
   "source": [
    "### Stance conversion into 0, 1 or 2"
   ]
  },
  {
   "cell_type": "code",
   "metadata": {},
   "source": [
    "combined_df['Stance'].fillna('Unknown', inplace=True)\n",
    "\n",
    "stance_mapping = {'Switch' : 0, 'Orthodox': 1, 'Southpaw': 2}\n",
    "\n",
    "combined_df['Stance'] = combined_df['Stance'].map(stance_mapping)\n",
    "\n",
    "combined_df.to_excel('Updated_UFC_File.xlsx', index=False)\n",
    "\n",
    "combined_df.head()"
   ],
   "outputs": [],
   "execution_count": null
  },
  {
   "cell_type": "markdown",
   "metadata": {},
   "source": [
    "### Creating 'Total_Fights' and 'Win_Percentage' features for each fighter"
   ]
  },
  {
   "cell_type": "code",
   "metadata": {},
   "source": [
    "combined_df['Total_Fights'] = combined_df['W'] + combined_df['L'] + combined_df['D']\n",
    "\n",
    "combined_df['Win_Percentage'] = (combined_df['W'] / combined_df['Total_Fights']) * 100\n",
    "\n",
    "# Fill NaN or infinite values with 0 before converting to integer\n",
    "combined_df['Win_Percentage'] = combined_df['Win_Percentage'].fillna(0).replace([float('inf'), -float('inf')], 0).round(0).astype(int)\n",
    "\n",
    "combined_df['Win_Percentage'] = combined_df['Win_Percentage'].astype(str) + '%'\n",
    "\n",
    "#Grappler will be 0 and striker will be 1\n",
    "combined_df['Grappler/Striker'] = combined_df['TD Avg.'].apply(lambda x: 0 if x > 1 else 1)\n",
    "\n",
    "combined_df.to_excel('UFC_Statistics.xlsx', index=False)\n",
    "\n",
    "# combined_df.head()\n",
    "\n",
    "# Calculate the number of grapplers (0) and strikers (1)\n",
    "grappler_count = combined_df[combined_df['Grappler/Striker'] == 0].shape[0]\n",
    "striker_count = combined_df[combined_df['Grappler/Striker'] == 1].shape[0]\n",
    "\n",
    "# Display the counts\n",
    "print(f\"Number of Grapplers: {grappler_count}\")\n",
    "print(f\"Number of Strikers: {striker_count}\")"
   ],
   "outputs": [],
   "execution_count": null
  },
  {
   "cell_type": "markdown",
   "metadata": {},
   "source": [
    "## Correlation matrisses"
   ]
  },
  {
   "cell_type": "code",
   "metadata": {},
   "source": [
    "# Convert 'W', 'L', and 'D' to win percentage\n",
    "combined_df['Total_Fights'] = combined_df['W'] + combined_df['L'] + combined_df['D']\n",
    "combined_df['Win_Percentage'] = combined_df['W'] / combined_df['Total_Fights']\n",
    "\n",
    "# Drop fighters with no fights (to avoid division by zero)\n",
    "combined_df = combined_df[combined_df['Total_Fights'] > 0]\n",
    "\n",
    "# Select relevant features for correlation\n",
    "features = ['SLpM', 'Str. Acc.', 'SApM', 'Str. Def', 'TD Avg.', 'TD Def.', 'Sub. Avg.','Stance','Win_Percentage']\n",
    "\n",
    "# Ensure the columns are strings before stripping '%' and converting to float\n",
    "combined_df['Str. Acc.'] = combined_df['Str. Acc.'].astype(str).str.rstrip('%').astype(float)\n",
    "combined_df['Str. Def'] = combined_df['Str. Def'].astype(str).str.rstrip('%').astype(float)\n",
    "combined_df['TD Def.'] = combined_df['TD Def.'].astype(str).str.rstrip('%').astype(float)\n",
    "\n",
    "# Calculate correlation\n",
    "correlation_matrix = combined_df[features].corr()\n",
    "\n",
    "# Display the correlation matrix\n",
    "print(correlation_matrix)"
   ],
   "outputs": [],
   "execution_count": null
  },
  {
   "cell_type": "code",
   "metadata": {},
   "source": [
    "import matplotlib.pyplot as plt\n",
    "import seaborn as sns\n",
    "\n",
    "# Plot the heatmap for the correlation matrix\n",
    "plt.figure(figsize=(10, 8))\n",
    "sns.heatmap(correlation_matrix, annot=True, cmap='coolwarm', linewidths=0.5)\n",
    "plt.title('Correlation Matrix Heatmap')\n",
    "plt.show()"
   ],
   "outputs": [],
   "execution_count": null
  },
  {
   "cell_type": "markdown",
   "metadata": {},
   "source": [
    "## Modelling the data"
   ]
  },
  {
   "cell_type": "code",
   "metadata": {},
   "source": [
    "from sklearn.ensemble import RandomForestClassifier\n",
    "from sklearn.metrics import accuracy_score, classification_report\n",
    "from sklearn.preprocessing import StandardScaler\n",
    "from sklearn.model_selection import train_test_split\n",
    "\n",
    "# Ensure the columns are strings before stripping '%' and converting to float\n",
    "combined_df['Str. Acc.'] = combined_df['Str. Acc.'].astype(str).str.rstrip('%').astype(float) / 100.0\n",
    "combined_df['Str. Def'] = combined_df['Str. Def'].astype(str).str.rstrip('%').astype(float) / 100.0\n",
    "combined_df['Win_Percentage'] = combined_df['Win_Percentage'].astype(str).str.rstrip('%').astype(float) / 100.0\n",
    "combined_df['TD Def.'] = combined_df['TD Def.'].astype(str).str.rstrip('%').astype(float) / 100.0\n",
    "\n",
    "features = ['SLpM', 'Str. Acc.', 'SApM', 'Str. Def', 'TD Avg.', 'TD Def.', 'Sub. Avg.', 'Win_Percentage','Reach','Height','Grappler/Striker']\n",
    "X = combined_df[features]\n",
    "\n",
    "#Target variable\n",
    "y = combined_df['W']\n",
    "\n",
    "# Split the data into training and test sets\n",
    "X_train, X_test, y_train, y_test = train_test_split(X, y, test_size=0.2, random_state=42)\n",
    "\n",
    "# Normalize the data (since features have different scales)\n",
    "scaler = StandardScaler()\n",
    "X_train_scaled = scaler.fit_transform(X_train)\n",
    "X_test_scaled = scaler.transform(X_test)\n",
    "\n",
    "# Train a Random Forest model\n",
    "model = RandomForestClassifier(n_estimators=100, random_state=42, class_weight='balanced')\n",
    "model.fit(X_train_scaled, y_train)\n",
    "\n",
    "# Make predictions on the test set\n",
    "y_pred = model.predict(X_test_scaled)\n",
    "\n",
    "# Evaluate the model\n",
    "accuracy = accuracy_score(y_test, y_pred)\n",
    "print(f\"Model accuracy: {accuracy}\")\n",
    "print(\"Classification report:\")\n",
    "print(classification_report(y_test, y_pred))"
   ],
   "outputs": [],
   "execution_count": null
  },
  {
   "cell_type": "markdown",
   "metadata": {},
   "source": [
    "### I realized that I do not have enough data to make the model more accurate, it is possible that I might change the approach where instead of training the model solely based on the fighters' data and when training the model I basically use only the fighter specific data to predict a fight.\n",
    "\n",
    "### In order to make the model more accurate I will create or import a new dataset with more features. This dataset will have all fights from the beginning of the UFC, how they ended the fighters, etc."
   ]
  },
  {
   "metadata": {},
   "cell_type": "markdown",
   "source": [
    "# Data from Kaggle (Master)\n",
    "\n",
    "Loading the dataset"
   ]
  },
  {
   "metadata": {},
   "cell_type": "code",
   "outputs": [],
   "execution_count": null,
   "source": [
    "# file = 'UFCMaster/ufc-master.csv'\n",
    "file = 'ufc_master_final.xlsx'\n",
    "ufc_data_master = pd.read_excel(file)\n",
    "\n",
    "ufc_data_master.head()"
   ]
  },
  {
   "metadata": {},
   "cell_type": "markdown",
   "source": "Storing the number of features in a variable to later use it for displaying the difference between the number of features before and after the dropping"
  },
  {
   "metadata": {},
   "cell_type": "code",
   "source": "number_before_drop = ufc_data_master.shape",
   "outputs": [],
   "execution_count": null
  },
  {
   "metadata": {},
   "cell_type": "markdown",
   "source": [
    "## Cleaning the dataset\n",
    "In this section the idea is to clean the dataset, visualize it and prepare it for modelling. All the steps taken will be explained in a simple and comprehensive way."
   ]
  },
  {
   "metadata": {},
   "cell_type": "markdown",
   "source": [
    "### Conversion of weight (lbs) to weight (kg)\n",
    "This conversion is a personal preference, I feel more confident working with kilos instead of pounds"
   ]
  },
  {
   "metadata": {},
   "cell_type": "code",
   "source": [
    "ufc_data_master[\"BlueWeightKg\"] = ufc_data_master[\"BlueWeightLbs\"] * 0.453592\n",
    "ufc_data_master[\"RedWeightKg\"] = ufc_data_master[\"RedWeightLbs\"] * 0.453592\n",
    "\n",
    "ufc_data_master = ufc_data_master.drop(columns=[\"BlueWeightLbs\", \"RedWeightLbs\"])"
   ],
   "outputs": [],
   "execution_count": null
  },
  {
   "metadata": {},
   "cell_type": "markdown",
   "source": [
    "### Dropping unnecessary features\n",
    "All the unnecessary features are being dropped. The file inittialy had 118 features, however after carefully analysing all the different features, the number of features were reduced to 49. Most of the dropped features are rankings that are not directly related with fight prediction. As well as other features that do not really contribute to the prediction of a bout."
   ]
  },
  {
   "metadata": {},
   "cell_type": "code",
   "source": [
    "features_to_drop = [\n",
    "    \n",
    "    # Blue features\n",
    "    \"BlueFighter\",\"BlueExpectedValue\", \"BMatchWCRank\", \"BWFlyweightRank\", \"BWFeatherweightRank\",\n",
    "    \"BWStrawweightRank\", \"BWBantamweightRank\", \"BHeavyweightRank\",\n",
    "    \"BLightHeavyweightRank\", \"BMiddleweightRank\", \"BWelterweightRank\",\n",
    "    \"BLightweightRank\", \"BFeatherweightRank\", \"BBantamweightRank\",\n",
    "    \"BFlyweightRank\", \"BPFPRank\",\"BlueCurrentLoseStreak\",\"BlueCurrentWinStreak\",\n",
    "    \"BlueDraws\", \"BlueLongestWinStreak\",\"BlueLosses\",\"BlueTotalRoundsFought\",\"BlueTotalTitleBouts\",\n",
    "    \"BlueWinsByDecisionMajority\",\"BlueWinsByDecisionSplit\",\"BlueWinsByDecisionUnanimous\",\n",
    "    \"BlueWinsByKO\",\"BlueWinsBySubmission\",\"BlueWinsByTKODoctorStoppage\",\n",
    "    \"BlueWins\",\n",
    "    \"BlueAvgSigStrPct\",\n",
    "    \"BlueAvgTDPct\", \"Blue_Weight\", \"Blue_Reach\", \"Blue_DOB\",\"Blue_Stance\",\"Blue_Height\",\n",
    "\n",
    "    \n",
    "    # Red features\n",
    "    \"RedFighter\",\"RedExpectedValue\", \"RMatchWCRank\", \"RWFlyweightRank\", \"RWFeatherweightRank\",\n",
    "    \"RWStrawweightRank\", \"RWBantamweightRank\", \"RHeavyweightRank\",\n",
    "    \"RLightHeavyweightRank\", \"RMiddleweightRank\", \"RWelterweightRank\",\n",
    "    \"RLightweightRank\", \"RFeatherweightRank\", \"RBantamweightRank\",\n",
    "    \"RFlyweightRank\", \"RPFPRank\",\"RedCurrentLoseStreak\",\"RedCurrentWinStreak\",\"RedDraws\",\"RedLongestWinStreak\",\"RedLosses\",\n",
    "    \"RedTotalRoundsFought\",\"RedTotalTitleBouts\",\"RedWinsByDecisionMajority\",\n",
    "    \"RedWinsByDecisionSplit\",\"RedWinsByDecisionUnanimous\",\"RedWinsByKO\",\n",
    "    \"RedWinsBySubmission\",\"RedWinsByTKODoctorStoppage\", \"RedWins\",\"RedAvgSigStrPct\",\n",
    "    'RedAvgTDPct',\"Red_Weight\",\"Red_Reach\",\"Red_DOB\",\"Red_Stance\",\"Red_Height\",\n",
    "    \n",
    "    # Other\n",
    "    \"Date\", \"Location\", \"Country\", \"TitleBout\",\"WeightClass\", \"EmptyArena\",\"BetterRank\", \"FinishDetails\",\"FinishRoundTime\",\"TotalFightTimeSecs\",\"FinishRound\",\"TotalTitleBoutDif\",\"NumberOfRounds\", \"TotalRoundDif\",\n",
    "    \"LoseStreakDif\",\"WinDif\",\"LossDif\",\"LongestWinStreakDif\", \"WinStreakDif\",\"KODif\",\"SubDif\"\n",
    "]\n",
    "\n",
    "ufc_data_master = ufc_data_master.drop(columns = features_to_drop)\n",
    "\n",
    "ufc_data_master.columns"
   ],
   "outputs": [],
   "execution_count": null
  },
  {
   "metadata": {},
   "cell_type": "markdown",
   "source": "Number of features before and after dropping the unnecessary features"
  },
  {
   "metadata": {},
   "cell_type": "code",
   "source": [
    "number_after_drop = ufc_data_master.shape[1]\n",
    "\n",
    "print(f\"Number of features before dropping: {number_before_drop}\")\n",
    "print(f\"Number of features after dropping: {number_after_drop}\")"
   ],
   "outputs": [],
   "execution_count": null
  },
  {
   "metadata": {},
   "cell_type": "markdown",
   "source": ""
  },
  {
   "metadata": {},
   "cell_type": "markdown",
   "source": [
    "### One-hot-encoding the 'Finish' feature\n",
    "One-hot-encoding is used to transform categorical values into numerical values. In my case the 'Finish' feature had 5 different types of finishes. When I one-hot-encode the 'Finish' feature I get 5 different columns with all the possible finishes and a match has a true or false to the according finish. It is not a good idea to use factorizing with that many different options because the model could develop bias towards a bigger number.\n",
    "\n",
    "**Issue** -> The issue it solves is the models I am using need to have a numerical value instead of categorical.\n",
    "\n",
    "\n",
    "**Solution** -> One-hot-encoding is used instead of factorizing to reduce the model bias."
   ]
  },
  {
   "metadata": {},
   "cell_type": "code",
   "source": [
    "ufc_data_master = pd.get_dummies(ufc_data_master, columns = ['Finish'], prefix='Finish')\n",
    "\n",
    "ufc_data_master.head()"
   ],
   "outputs": [],
   "execution_count": null
  },
  {
   "metadata": {},
   "cell_type": "markdown",
   "source": [
    "### One-hot-encoding the 'Stance' feature \n",
    "I have three different stances that a fighter could have. I am one-hot-encoding it to make the categorical data to numerical, since the models I am using require numerical data."
   ]
  },
  {
   "metadata": {},
   "cell_type": "code",
   "source": [
    "ufc_data_master = pd.get_dummies(ufc_data_master, columns = ['RedStance'], prefix = 'RedStance')\n",
    "ufc_data_master = pd.get_dummies(ufc_data_master, columns = ['BlueStance'], prefix = 'BlueStance')\n",
    "\n",
    "ufc_data_master.head()"
   ],
   "outputs": [],
   "execution_count": null
  },
  {
   "metadata": {},
   "cell_type": "markdown",
   "source": [
    "### Factorizing 'Winner'\n",
    "The 'Winner' feature had either 'Red' or 'Blue' as a winner, in order to normalize it I factorized the feature providing me with a binary value 0 or 1, where **0 is Red** and **1 is Blue**\n",
    "\n",
    "This was needed because my models could not use the string type of the feature to model the data"
   ]
  },
  {
   "metadata": {},
   "cell_type": "code",
   "source": [
    "ufc_data_master['Winner'], winner_mapping = pd.factorize(ufc_data_master['Winner'])\n",
    "\n",
    "ufc_data_master.head()"
   ],
   "outputs": [],
   "execution_count": null
  },
  {
   "metadata": {},
   "cell_type": "markdown",
   "source": [
    "### Factorizing 'Gender'\n",
    "The 'Gender' feature was factorized for the same reason as the 'Winner' feature. I had only two possible values 'Man' or 'Woman', now the **0 is man ** and 1 is woman**.\n",
    "\n",
    "Using one-hot-encoding is not best practise here because the feature is binary, always either 0 or 1. When there are more than 2 values then one-hot-encoding should be considered. As well as, one-hot-encoding would have created more columns which just adds up to the training time in this case."
   ]
  },
  {
   "metadata": {},
   "cell_type": "code",
   "source": [
    "ufc_data_master['Gender'], gender_mapping = pd.factorize(ufc_data_master['Gender'])\n",
    "\n",
    "ufc_data_master.head()"
   ],
   "outputs": [],
   "execution_count": null
  },
  {
   "metadata": {},
   "cell_type": "markdown",
   "source": "### Number of entries in dataset"
  },
  {
   "metadata": {},
   "cell_type": "code",
   "source": [
    "all_entries = ufc_data_master.size\n",
    "print(f\"Total number of entries in the dataset: {all_entries}\")"
   ],
   "outputs": [],
   "execution_count": null
  },
  {
   "metadata": {},
   "cell_type": "code",
   "source": [
    "total_number_rows_features = ufc_data_master.shape\n",
    "\n",
    "print(f\"Total number of rows and features in the dataset: {total_number_rows_features}\")"
   ],
   "outputs": [],
   "execution_count": null
  },
  {
   "metadata": {},
   "cell_type": "markdown",
   "source": "### Number of null values in the dataset"
  },
  {
   "metadata": {},
   "cell_type": "code",
   "source": [
    "total_nulls = ufc_data_master.isnull().sum().sum()\n",
    "print(f\"Total null values in the dataset: {total_nulls}\")\n"
   ],
   "outputs": [],
   "execution_count": null
  },
  {
   "metadata": {},
   "cell_type": "markdown",
   "source": "### Number of null values in each feature"
  },
  {
   "metadata": {},
   "cell_type": "code",
   "source": [
    "null_values_per_feature = ufc_data_master.isnull().sum()\n",
    "print(\"Null values per feature:\")\n",
    "print(null_values_per_feature[null_values_per_feature > 0])\n"
   ],
   "outputs": [],
   "execution_count": null
  },
  {
   "metadata": {},
   "cell_type": "markdown",
   "source": "### Number of rows that are missing all or at least one feature"
  },
  {
   "metadata": {},
   "cell_type": "code",
   "source": [
    "features_to_check = [\n",
    "    'RedOdds', 'BlueOdds', 'BlueAvgSigStrLanded', 'BlueAvgSigStrPct', \n",
    "    'BlueAvgSubAtt', 'BlueAvgTDLanded', 'BlueAvgTDPct', 'RedAvgSigStrLanded',\n",
    "    'RedAvgSigStrPct', 'RedAvgSubAtt', 'RedAvgTDLanded', 'RedAvgTDPct',\n",
    "    'FinishDetails', 'FinishRound', 'FinishRoundTime', 'TotalFightTimeSecs',\n",
    "    'RedDecOdds', 'BlueDecOdds', 'RSubOdds', 'BSubOdds', 'RKOOdds', 'BKOOdds'\n",
    "]\n",
    "\n",
    "null_rows = ufc_data_master[features_to_check].isnull()\n",
    "\n",
    "all_missing_rows_count = null_rows.all(axis=1).sum()\n",
    "\n",
    "any_missing_rows_count = null_rows.any(axis=1).sum()\n",
    "\n",
    "print(f\"Number of rows where all features are missing: {all_missing_rows_count}\")\n",
    "print(f\"Number of rows where at least one feature is missing: {any_missing_rows_count}\")\n"
   ],
   "outputs": [],
   "execution_count": null
  },
  {
   "metadata": {},
   "cell_type": "markdown",
   "source": [
    "### Finish round, finish round time and total fight time seconds features\n",
    "\n",
    "This analysis was made to find the best way to populate the 'FinishRound', 'FinishRoundTime' and 'FinishRoundTimeSec'.\n",
    "\n",
    "There are three ways I thought of approaching it, first just fill in the values with 0, however I was not sure how many rows were affected and if this will disturb the models' accuracy.\n",
    "\n",
    "Second was to fill it in with the mean, however I did not like that one because that way I would have had a lot of artifical data.\n",
    "\n",
    "Third was, if the rows that are null are <10% to drop them because they wouldn't have influence on the models' accuracy"
   ]
  },
  {
   "metadata": {},
   "cell_type": "markdown",
   "source": "The rows that had NaN values were dropped because they are <10% of the whole dataset."
  },
  {
   "metadata": {},
   "cell_type": "markdown",
   "source": "### Filling in the NULL values of all the columns"
  },
  {
   "metadata": {},
   "cell_type": "code",
   "source": [
    "ufc_data_master[\"RedOdds\"] = ufc_data_master[\"RedOdds\"].fillna(0)\n",
    "ufc_data_master[\"BlueOdds\"] = ufc_data_master[\"BlueOdds\"].fillna(0)\n",
    "ufc_data_master['BlueAvgSigStrLanded'] = ufc_data_master['BlueAvgSigStrLanded'].fillna(0.0)\n",
    "ufc_data_master['BlueAvgSubAtt'] = ufc_data_master['BlueAvgSubAtt'].fillna(0.0)\n",
    "ufc_data_master['BlueAvgTDLanded'] = ufc_data_master['BlueAvgTDLanded'].fillna(0.0)\n",
    "ufc_data_master['RedAvgSigStrLanded'] = ufc_data_master['RedAvgSigStrLanded'].fillna(0)\n",
    "ufc_data_master['RedAvgSubAtt'] = ufc_data_master['RedAvgSubAtt'].fillna(0)\n",
    "ufc_data_master['RedAvgTDLanded'] = ufc_data_master['RedAvgTDLanded'].fillna(0)\n",
    "ufc_data_master['RedDecOdds'] = ufc_data_master['RedDecOdds'].fillna(0)\n",
    "ufc_data_master['BlueDecOdds'] = ufc_data_master['BlueDecOdds'].fillna(0)\n",
    "ufc_data_master['RSubOdds'] = ufc_data_master['RSubOdds'].fillna(0)\n",
    "ufc_data_master['BSubOdds'] = ufc_data_master['BSubOdds'].fillna(0)\n",
    "ufc_data_master['RKOOdds'] = ufc_data_master['RKOOdds'].fillna(0)\n",
    "ufc_data_master['BKOOdds'] = ufc_data_master['BKOOdds'].fillna(0)\n",
    "\n",
    "ufc_data_master.head()\n",
    "\n",
    "# ufc_data_master.to_excel(\"ufc_master_cleaned.xlsx\", index=False)"
   ],
   "outputs": [],
   "execution_count": null
  },
  {
   "metadata": {},
   "cell_type": "markdown",
   "source": "## Visualizing correlations"
  },
  {
   "metadata": {},
   "cell_type": "markdown",
   "source": "### Correlation between match statistics to the 'Winner' feature"
  },
  {
   "metadata": {},
   "cell_type": "code",
   "source": [
    "selected_features = [\n",
    "    \"RedOdds\", \"BlueOdds\", \"KODif\", \"SubDif\", \"HeightDif\", \"ReachDif\", \"AgeDif\", \"SigStrDif\", \n",
    "    \"AvgSubAttDif\", \"AvgTDDif\",\"SLpM Diff\",\n",
    "       \"TD Avg. Diff.\", \"Exp. Str. Acc. Diff.\", \"Sub Avg. Diff.\", \"Winner\"\n",
    "]\n",
    "\n",
    "data_for_correlation = ufc_data_master[selected_features]\n",
    "\n",
    "correlation_matrix = data_for_correlation.corr()\n",
    "\n",
    "plt.figure(figsize=(17, 15))\n",
    "sns.heatmap(correlation_matrix, annot=True, cmap='coolwarm', linewidths=0.5)\n",
    "plt.title('Correlation Matrix Heatmap')\n",
    "plt.show()"
   ],
   "outputs": [],
   "execution_count": null
  },
  {
   "metadata": {},
   "cell_type": "markdown",
   "source": "### Red winner statistics matrix"
  },
  {
   "metadata": {},
   "cell_type": "code",
   "source": [
    "red_features = [\"Red_SLpM\",\t\"Red_Str_Acc\",\"Red_SApM\",\"Red_Str_Def\", \"Red_TD_Avg\",\"Red_TD_Acc\",\"Red_TD_Def\", \"Red_Sub_Avg\",\"RedAvgSigStrLanded\",\"RedAvgSubAtt\",\"RedAvgTDLanded\",\"RedHeightCms\",\"RedReachCms\"]\n",
    "\n",
    "red_winner = ufc_data_master[ufc_data_master['Winner'] == 0]\n",
    "\n",
    "data_for_correlation_red_winner = red_winner[red_features]\n",
    "\n",
    "correlation_matrix_winner_0 = data_for_correlation_red_winner.corr()\n",
    "\n",
    "# Plot the heatmap\n",
    "plt.figure(figsize=(17, 15))\n",
    "sns.heatmap(correlation_matrix_winner_0, annot=True, cmap='coolwarm', linewidths=0.5)\n",
    "plt.title('Red winner statistics correlations')\n",
    "plt.show()"
   ],
   "outputs": [],
   "execution_count": null
  },
  {
   "metadata": {},
   "cell_type": "markdown",
   "source": "### Blue winner statistics matrix"
  },
  {
   "metadata": {},
   "cell_type": "code",
   "source": [
    "blue_features = [\"Blue_SLpM\",\"Blue_Str_Acc\",\"Blue_SApM\",\"Blue_Str_Def\", \"Blue_TD_Avg\",\"Blue_TD_Acc\",\"Blue_TD_Def\", \"Blue_Sub_Avg\",\"BlueAvgSigStrLanded\",\"BlueAvgSubAtt\",\"BlueAvgTDLanded\",\"BlueHeightCms\",\"BlueReachCms\"]\n",
    "\n",
    "blue_winner = ufc_data_master[ufc_data_master['Winner'] == 1]\n",
    "\n",
    "data_for_correlation_blue_winner = blue_winner[blue_features]\n",
    "\n",
    "correlation_matrix_winner_0 = data_for_correlation_blue_winner.corr()\n",
    "\n",
    "# Plot the heatmap\n",
    "plt.figure(figsize=(17, 15))\n",
    "sns.heatmap(correlation_matrix_winner_0, annot=True, cmap='coolwarm', linewidths=0.5)\n",
    "plt.title('Blue winner statistics correlations')\n",
    "plt.show()"
   ],
   "outputs": [],
   "execution_count": null
  },
  {
   "metadata": {},
   "cell_type": "markdown",
   "source": "### KO/TKO statistics matrix (Strikes statistics)"
  },
  {
   "metadata": {},
   "cell_type": "code",
   "source": [
    "ko_tko_features = [\"HeightDif\",\"ReachDif\",\"AgeDif\",\"SigStrDif\",\"SLpM Diff\",\"Exp. Str. Acc. Diff.\",\"Finish_KO/TKO\"]\n",
    "\n",
    "data_for_correlation_ko_tko = ufc_data_master[ko_tko_features]\n",
    "\n",
    "correlation_matrix_ko_tko = data_for_correlation_ko_tko.corr()\n",
    "\n",
    "plt.figure(figsize=(10,5))\n",
    "sns.heatmap(correlation_matrix_ko_tko, annot=True, cmap='coolwarm', linewidths=0.5)\n",
    "plt.title('KO/TKO statistics matrix')\n",
    "plt.show()\n"
   ],
   "outputs": [],
   "execution_count": null
  },
  {
   "metadata": {},
   "cell_type": "markdown",
   "source": "### Submission statistics matrix"
  },
  {
   "metadata": {},
   "cell_type": "code",
   "source": [
    "submission_features = [\"SubDif\",\"HeightDif\",\"AgeDif\",\"AvgSubAttDif\",\"AvgTDDif\",\"TD Avg. Diff.\",\"Exp. TD Acc. Diff.\", \"Sub Avg. Diff.\", \"Finish_SUB\"]\n",
    "\n",
    "correlation_submission = ufc_data_master[submission_features]\n",
    "\n",
    "correlation_matrix_submission = correlation_submission.corr()\n",
    "\n",
    "plt.figure(figsize=(12,7))\n",
    "sns.heatmap(correlation_matrix_submission, annot=True, cmap='coolwarm', linewidths=0.5)\n",
    "plt.title('Submission statistics matrix')\n",
    "plt.show()\n"
   ],
   "outputs": [],
   "execution_count": null
  },
  {
   "metadata": {},
   "cell_type": "markdown",
   "source": "### Decision statistics matrix"
  },
  {
   "metadata": {},
   "cell_type": "code",
   "source": [
    "decision_features = [\"SubDif\",\"HeightDif\",\"AgeDif\",\"AvgSubAttDif\",\"AvgTDDif\",\"TD Avg. Diff.\",\"Exp. TD Acc. Diff.\", \"Sub Avg. Diff.\",\"SigStrDif\",\"SLpM Diff\",\"Exp. Str. Acc. Diff.\", \"Finish_U-DEC\"]\n",
    "\n",
    "correlation_decision = ufc_data_master[decision_features]\n",
    "\n",
    "correlation_matrix_decision = correlation_decision.corr()\n",
    "\n",
    "plt.figure(figsize=(12,7))\n",
    "sns.heatmap(correlation_matrix_decision, annot=True, cmap='coolwarm', linewidths=0.5)\n",
    "plt.title('Decision statistics matrix')\n",
    "plt.show()"
   ],
   "outputs": [],
   "execution_count": null
  },
  {
   "metadata": {},
   "cell_type": "markdown",
   "source": [
    "### Absolute Average SigStrDif for Finish_KO/TKO\n",
    "\n",
    "I am taking the absolute to better display the bar chart, because the values are negative.\n",
    "\n",
    "The bar chart shows that if you have landed more strikes thoughout your career you are more likely to win via KO/TKO"
   ]
  },
  {
   "metadata": {},
   "cell_type": "markdown",
   "source": "### Scatter plot for Finish_KO/TKO"
  },
  {
   "metadata": {},
   "cell_type": "code",
   "source": [
    "sns.pairplot(data=ufc_data_master, vars=[\"SLpM Diff\",\n",
    "       \"TD Avg. Diff.\", \"Exp. Str. Acc. Diff.\", \"Sub Avg. Diff.\"],\n",
    "             hue=\"Finish_KO/TKO\", palette=\"coolwarm\", diag_kind=\"kde\")\n",
    "plt.show()\n"
   ],
   "outputs": [],
   "execution_count": null
  },
  {
   "metadata": {},
   "cell_type": "markdown",
   "source": "### Feature importance for predicting fight finishes"
  },
  {
   "metadata": {},
   "cell_type": "markdown",
   "source": "## Modelling"
  },
  {
   "metadata": {},
   "cell_type": "markdown",
   "source": "### Random Forest Classifier"
  },
  {
   "metadata": {},
   "cell_type": "code",
   "source": [
    "from sklearn.model_selection import train_test_split\n",
    "from imblearn.under_sampling import RandomUnderSampler\n",
    "from collections import Counter\n",
    "\n",
    "# # Encode the target variable: 'Red' as 0 and 'Blue' as 1\n",
    "# ufc_data_master['Winner'] = ufc_data_master['Winner'].map({'Red': 0, 'Blue': 1})\n",
    "\n",
    "X = ufc_data_master.drop('Winner', axis=1)\n",
    "y = ufc_data_master['Winner']\n",
    "\n",
    "# Split into training and testing sets\n",
    "X_train, X_test, y_train, y_test = train_test_split(X, y, test_size=0.2, random_state=42)\n",
    "\n",
    "print(f\"Training set size: {X_train.shape[0]} samples\")\n",
    "print(f\"Testing set size: {X_test.shape[0]} samples\")\n"
   ],
   "outputs": [],
   "execution_count": null
  },
  {
   "metadata": {},
   "cell_type": "code",
   "source": [
    "from sklearn.ensemble import RandomForestClassifier\n",
    "from sklearn.metrics import accuracy_score, classification_report\n",
    "\n",
    "rf_model = RandomForestClassifier(n_estimators=100, random_state=42)\n",
    "\n",
    "rf_model.fit(X_train, y_train)\n",
    "\n",
    "y_pred = rf_model.predict(X_test)\n",
    "\n",
    "accuracy = accuracy_score(y_test, y_pred)\n",
    "print(f\"Model Accuracy: {accuracy:.2%}\")\n",
    "\n",
    "print(\"Classification Report:\")\n",
    "print(classification_report(y_test, y_pred, target_names=['Red Win', 'Blue Win']))\n"
   ],
   "outputs": [],
   "execution_count": null
  },
  {
   "metadata": {},
   "cell_type": "code",
   "source": [
    "from sklearn.metrics import confusion_matrix, ConfusionMatrixDisplay\n",
    "\n",
    "cm_rf = confusion_matrix(y_test, y_pred)\n",
    "\n",
    "disp_rf = ConfusionMatrixDisplay(confusion_matrix=cm_rf, display_labels=['Red Win', 'Blue Win'])\n",
    "disp_rf.plot(cmap='Blues')\n",
    "plt.title('Confusion Matrix - Random Forest Classifier')\n",
    "plt.show()\n"
   ],
   "outputs": [],
   "execution_count": null
  },
  {
   "metadata": {},
   "cell_type": "markdown",
   "source": "#### Tuning the model"
  },
  {
   "metadata": {},
   "cell_type": "markdown",
   "source": "##### Undersampling"
  },
  {
   "metadata": {},
   "cell_type": "code",
   "source": [
    "undersampler = RandomUnderSampler(random_state=42)\n",
    "\n",
    "X_resampled, y_resampled = undersampler.fit_resample(X_train, y_train)\n",
    "\n",
    "print(\"Class distribution before undersampling:\", Counter(y_train))\n",
    "print(\"Class distribution after undersampling:\", Counter(y_resampled))"
   ],
   "outputs": [],
   "execution_count": null
  },
  {
   "metadata": {},
   "cell_type": "code",
   "source": [
    "from sklearn.ensemble import RandomForestClassifier\n",
    "from sklearn.metrics import confusion_matrix, classification_report, ConfusionMatrixDisplay\n",
    "\n",
    "rf_classifier = RandomForestClassifier(random_state=42)\n",
    "rf_classifier.fit(X_resampled, y_resampled)\n",
    "\n",
    "y_pred_rf = rf_classifier.predict(X_test)\n",
    "\n",
    "print(\"Classification Report:\")\n",
    "print(classification_report(y_test, y_pred_rf, target_names=['Red Win', 'Blue Win']))\n",
    "\n",
    "cm = confusion_matrix(y_test, y_pred_rf)\n",
    "disp = ConfusionMatrixDisplay(confusion_matrix=cm, display_labels=['Red Win', 'Blue Win'])\n",
    "disp.plot(cmap='Blues')\n",
    "plt.title('Confusion Matrix - After Undersampling')\n",
    "plt.show()\n"
   ],
   "outputs": [],
   "execution_count": null
  },
  {
   "metadata": {},
   "cell_type": "markdown",
   "source": "##### Fine-tuning Hyperparameter"
  },
  {
   "metadata": {},
   "cell_type": "code",
   "source": [
    "param_grid_rf = {\n",
    "    'n_estimators': [50, 100, 200],  # Number of trees in the forest\n",
    "    'max_depth': [10, 20, None],    # Maximum depth of each tree\n",
    "    'min_samples_split': [2, 5, 10],  # Minimum number of samples required to split a node\n",
    "    'min_samples_leaf': [1, 2, 4],    # Minimum number of samples required at a leaf node\n",
    "    'class_weight': [None, 'balanced']  # Handle class imbalance\n",
    "}"
   ],
   "outputs": [],
   "execution_count": null
  },
  {
   "metadata": {},
   "cell_type": "code",
   "source": [
    "rf_model = RandomForestClassifier(random_state=42)\n",
    "\n",
    "grid_search_rf = GridSearchCV(\n",
    "    estimator=rf_model,\n",
    "    param_grid=param_grid_rf,\n",
    "    cv=5,  # 5-fold cross-validation\n",
    "    scoring='accuracy',  # Optimize for accuracy\n",
    "    n_jobs=-1,  # Use all CPU cores\n",
    "    verbose=2   # Print progress during the search\n",
    ")\n",
    "\n",
    "grid_search_rf.fit(X_train, y_train)\n",
    "\n",
    "print(f\"Best Hyperparameters: {grid_search_rf.best_params_}\")\n"
   ],
   "outputs": [],
   "execution_count": null
  },
  {
   "metadata": {},
   "cell_type": "code",
   "source": [
    "best_rf_model = grid_search_rf.best_estimator_\n",
    "\n",
    "y_pred_rf = best_rf_model.predict(X_test)\n",
    "\n",
    "# Evaluate the model\n",
    "print(\"Classification Report:\")\n",
    "print(classification_report(y_test, y_pred_rf, target_names=['Red Win', 'Blue Win']))\n",
    "\n",
    "# Confusion Matrix\n",
    "cm = confusion_matrix(y_test, y_pred_rf)\n",
    "disp = ConfusionMatrixDisplay(confusion_matrix=cm, display_labels=['Red Win', 'Blue Win'])\n",
    "disp.plot(cmap='Blues')\n",
    "plt.title('Confusion Matrix - Optimized Random Forest')\n",
    "plt.show()\n"
   ],
   "outputs": [],
   "execution_count": null
  },
  {
   "metadata": {},
   "cell_type": "markdown",
   "source": "### K-Nearest Neighbors (KNN)"
  },
  {
   "metadata": {},
   "cell_type": "code",
   "source": [
    "X = ufc_data_master.drop(columns=['Winner']) #X contains every feature without the 'Winner' feature\n",
    "y = ufc_data_master['Winner']\n",
    "\n",
    "X_train, X_test, y_train, y_test = train_test_split(X, y, test_size=0.2, random_state=42)\n",
    "\n",
    "print(f\"Training samples: {len(X_train)}, Testing samples: {len(X_test)}\")"
   ],
   "outputs": [],
   "execution_count": null
  },
  {
   "metadata": {},
   "cell_type": "code",
   "source": [
    "knn_model = KNeighborsClassifier(n_neighbors=5, metric='minkowski', p=2) \n",
    "\n",
    "knn_model.fit(X_train, y_train)\n",
    "\n",
    "y_pred_knn = knn_model.predict(X_test)\n",
    "\n",
    "accuracy_knn = accuracy_score(y_test, y_pred_knn)\n",
    "print(f\"KNN Model Accuracy: {accuracy_knn:.2%}\")\n",
    "print(\"\\nKNN Classification Report:\\n\")\n",
    "print(classification_report(y_test, y_pred_knn, target_names=['Red Win', 'Blue Win']))\n"
   ],
   "outputs": [],
   "execution_count": null
  },
  {
   "metadata": {},
   "cell_type": "markdown",
   "source": "### Hyperparameter tuning"
  },
  {
   "metadata": {},
   "cell_type": "code",
   "source": [
    "param_grid_knn = {'n_neighbors': [3, 5, 7, 9], 'metric': ['minkowski', 'euclidean', 'manhattan']}\n",
    "\n",
    "grid_search_knn = GridSearchCV(KNeighborsClassifier(), param_grid_knn, cv=5, scoring='accuracy')\n",
    "grid_search_knn.fit(X_train, y_train)\n",
    "\n",
    "print(f\"Best parameters for KNN: {grid_search_knn.best_params_}\")"
   ],
   "outputs": [],
   "execution_count": null
  },
  {
   "metadata": {},
   "cell_type": "code",
   "source": [
    "best_knn_model = grid_search_knn.best_estimator_\n",
    "\n",
    "y_pred_best_knn = best_knn_model.predict(X_test)\n",
    "\n",
    "accuracy_best_knn = accuracy_score(y_test, y_pred_best_knn)\n",
    "print(f\"Optimized KNN Model Accuracy: {accuracy_best_knn:.2%}\")\n",
    "\n",
    "print(\"\\nClassification Report for Optimized KNN Model:\\n\")\n",
    "print(classification_report(y_test, y_pred_best_knn, target_names=['Red Win', 'Blue Win']))\n"
   ],
   "outputs": [],
   "execution_count": null
  },
  {
   "metadata": {},
   "cell_type": "code",
   "source": [
    "initial_knn_accuracy = accuracy_knn \n",
    "\n",
    "print(f\"Initial KNN Model Accuracy: {initial_knn_accuracy:.2%}\")\n",
    "print(f\"Optimized KNN Model Accuracy: {accuracy_best_knn:.2%}\")\n",
    "\n",
    "if accuracy_best_knn > initial_knn_accuracy:\n",
    "    print(\"The optimized KNN model performed better after hyperparameter tuning.\")\n",
    "else:\n",
    "    print(\"The optimized KNN model did not improve significantly.\")\n"
   ],
   "outputs": [],
   "execution_count": null
  },
  {
   "metadata": {},
   "cell_type": "markdown",
   "source": "### Support Vector Machine"
  },
  {
   "metadata": {},
   "cell_type": "code",
   "source": [
    "svm_model = SVR(kernel='rbf')\n",
    "\n",
    "svm_model.fit(X_train, y_train)\n",
    "\n",
    "y_pred_svm = svm_model.predict(X_test)\n",
    "\n",
    "score = svm_model.score(X_test, y_test)\n",
    "\n",
    "print(score)\n"
   ],
   "outputs": [],
   "execution_count": null
  },
  {
   "metadata": {},
   "cell_type": "markdown",
   "source": "#### Undersampling"
  },
  {
   "metadata": {},
   "cell_type": "code",
   "source": [
    "undersampler = RandomUnderSampler(random_state=42)\n",
    "\n",
    "X_train_resampled, y_train_resampled = undersampler.fit_resample(X_train, y_train)\n",
    "\n",
    "print(f\"Class distribution before undersampling: {Counter(y_train)}\")\n",
    "print(f\"Class distribution after undersampling: {Counter(y_train_resampled)}\")\n"
   ],
   "outputs": [],
   "execution_count": null
  },
  {
   "metadata": {},
   "cell_type": "code",
   "source": [
    "svm_model_resampled = SVC(kernel='rbf', probability=True, random_state=42)\n",
    "\n",
    "svm_model_resampled.fit(X_train_resampled, y_train_resampled)\n",
    "\n",
    "y_pred_svm_resampled = svm_model_resampled.predict(X_test)\n",
    "\n",
    "accuracy_svm_resampled = accuracy_score(y_test, y_pred_svm_resampled)\n",
    "print(f\"SVM Model Accuracy After Undersampling: {accuracy_svm_resampled:.2%}\")\n",
    "print(\"\\nSVM Classification Report After Undersampling:\\n\")\n",
    "print(classification_report(y_test, y_pred_svm_resampled, target_names=['Red Win', 'Blue Win']))\n",
    "\n"
   ],
   "outputs": [],
   "execution_count": null
  },
  {
   "metadata": {},
   "cell_type": "code",
   "source": [
    "cm = confusion_matrix(y_test, y_pred_svm_resampled)\n",
    "\n",
    "disp = ConfusionMatrixDisplay(confusion_matrix=cm, display_labels=['Red Win', 'Blue Win'])\n",
    "disp.plot(cmap='Blues')\n",
    "plt.title('Confusion Matrix - SVM After Undersampling')\n",
    "plt.show()\n"
   ],
   "outputs": [],
   "execution_count": null
  },
  {
   "metadata": {},
   "cell_type": "markdown",
   "source": "#### Hyperparameter tuning"
  },
  {
   "metadata": {},
   "cell_type": "code",
   "source": [
    "from time import time\n",
    "\n",
    "start_time = time()\n",
    "SVC(kernel='rbf', C=1, gamma='scale', probability=True).fit(X_train, y_train)\n",
    "print(f\"Time for one model: {time() - start_time:.2f} seconds\")\n"
   ],
   "outputs": [],
   "execution_count": null
  },
  {
   "metadata": {},
   "cell_type": "code",
   "source": [
    "from sklearn.model_selection import GridSearchCV\n",
    "from sklearn.svm import SVC\n",
    "\n",
    "param_grid_svm = {'kernel': ['rbf'], 'C': [1]}\n",
    "\n",
    "grid_search_svm = GridSearchCV(SVC(), param_grid_svm, cv=5, scoring='accuracy', n_jobs=-1)\n",
    "grid_search_svm.fit(X_train, y_train)\n",
    "\n",
    "print(f\"Best parameters for SVM: {grid_search_svm.best_params_}\")"
   ],
   "outputs": [],
   "execution_count": null
  },
  {
   "metadata": {},
   "cell_type": "code",
   "source": [
    "cm_svm = confusion_matrix(y_test, y_pred_svm)\n",
    "\n",
    "disp_svm = ConfusionMatrixDisplay(confusion_matrix=cm_svm, display_labels=['Red Win', 'Blue Win'])\n",
    "disp_svm.plot(cmap='Blues')\n",
    "plt.title('Confusion Matrix - SVM')\n",
    "plt.show()"
   ],
   "outputs": [],
   "execution_count": null
  },
  {
   "metadata": {},
   "cell_type": "markdown",
   "source": "### Linear Support Vector Machine"
  },
  {
   "metadata": {
    "jupyter": {
     "is_executing": true
    }
   },
   "cell_type": "code",
   "source": [
    "X = ufc_data_master.drop(columns=['Winner'])\n",
    "y = ufc_data_master['Winner']\n",
    "\n",
    "X_train, X_test, y_train, y_test = train_test_split(X, y, test_size=0.2, random_state=42)\n",
    "\n",
    "linear_svm = SVC(kernel='linear', probability=True, random_state=42)\n",
    "linear_svm.fit(X_train, y_train)\n",
    "y_pred = linear_svm.predict(X_test)\n",
    "\n",
    "print(\"Classification Report:\")\n",
    "print(classification_report(y_test, y_pred, target_names=['False (Winner)', 'True (Winner)']))\n",
    "\n",
    "cm = confusion_matrix(y_test, y_pred)\n",
    "disp = ConfusionMatrixDisplay(confusion_matrix=cm, display_labels=['False (No KO/TKO)', 'True (KO/TKO)'])\n",
    "disp.plot(cmap='Blues')\n",
    "plt.title('Confusion Matrix - Linear SVM')\n",
    "plt.show()\n"
   ],
   "outputs": [],
   "execution_count": null
  },
  {
   "metadata": {},
   "cell_type": "markdown",
   "source": "### Random Forest Regressor"
  },
  {
   "metadata": {},
   "cell_type": "code",
   "source": [
    "rf_model = RandomForestRegressor(n_estimators=100, random_state=42)\n",
    "\n",
    "rf_model.fit(X_train, y_train)\n",
    "\n",
    "y_pred = rf_model.predict(X_test)\n",
    "\n",
    "mse = mean_squared_error(y_test, y_pred)\n",
    "r2 = r2_score(y_test, y_pred)\n",
    "\n",
    "print(f\"Mean Squared Error: {mse:.4f}\")\n",
    "print(f\"R^2 Score: {r2:.4f}\")"
   ],
   "outputs": [],
   "execution_count": null
  },
  {
   "metadata": {},
   "cell_type": "code",
   "source": [
    "# Convert predictions to binary outcomes\n",
    "y_pred_class = [0 if pred < 0.5 else 1 for pred in y_pred]\n",
    "\n",
    "accuracy = accuracy_score(y_test, y_pred_class)\n",
    "print(f\"Accuracy: {accuracy:.2%}\")\n",
    "\n",
    "print(\"\\nClassification Report:\\n\")\n",
    "print(classification_report(y_test, y_pred_class, target_names=['Red Win', 'Blue Win']))\n"
   ],
   "outputs": [],
   "execution_count": null
  },
  {
   "metadata": {},
   "cell_type": "code",
   "source": [
    "feature_importances = rf_model.feature_importances_\n",
    "sorted_indices = feature_importances.argsort()\n",
    "\n",
    "plt.figure(figsize=(15,10))\n",
    "plt.barh([X.columns[i] for i in sorted_indices], feature_importances[sorted_indices], color='skyblue')\n",
    "plt.title('Feature Importance')\n",
    "plt.xlabel('Importance')\n",
    "plt.ylabel('Feature')\n",
    "plt.tight_layout()\n",
    "plt.show()"
   ],
   "outputs": [],
   "execution_count": null
  },
  {
   "metadata": {},
   "cell_type": "markdown",
   "source": ""
  },
  {
   "metadata": {},
   "cell_type": "code",
   "source": [
    "cm = confusion_matrix(y_test, y_pred_class)\n",
    "disp = ConfusionMatrixDisplay(confusion_matrix=cm, display_labels=['Red Win', 'Blue Win'])\n",
    "disp.plot(cmap='Blues')\n",
    "plt.title('Confusion Matrix')\n",
    "plt.show()\n"
   ],
   "outputs": [],
   "execution_count": null
  },
  {
   "metadata": {},
   "cell_type": "markdown",
   "source": "### Logistic Regression"
  },
  {
   "metadata": {
    "ExecuteTime": {
     "end_time": "2024-12-20T11:27:24.283463Z",
     "start_time": "2024-12-20T11:27:24.223087Z"
    }
   },
   "cell_type": "code",
   "source": [
    "X = ufc_data_master.drop(columns=['RedOdds', 'RedDecOdds','BlueOdds','RSubOdds','BSubOdds','RKOOdds','BKOOdds','BlueOdds','Finish_KO/TKO', 'Finish_SUB', 'Finish_U-DEC','Finish_Overturned','BlueDecOdds','Finish_M-DEC','Finish_DQ','Finish_S-DEC','Winner'])\n",
    "# selected_features = [\n",
    "#     'SLpM Diff', 'Exp. Str. Acc. Diff.', 'TD Avg. Diff.',\n",
    "#     'Exp. TD Acc. Diff.', 'Sub Avg. Diff.', 'HeightDif', 'ReachDif',\n",
    "#     'AgeDif', 'SigStrDif', 'AvgSubAttDif', 'AvgTDDif'\n",
    "# ]\n",
    "# X = ufc_data_master[selected_features]\n",
    "\n",
    "# y = ufc_data_master['Finish_KO/TKO']\n",
    "# y = ufc_data_master['Finish_SUB']\n",
    "# y = ufc_data_master['Finish_U-DEC']\n",
    "y = ufc_data_master['Winner']\n",
    "\n",
    "X = X.fillna(0)\n",
    "scaler = StandardScaler()\n",
    "X_scaled = scaler.fit_transform(X)\n",
    "\n",
    "x_train, x_test, y_train, y_test = train_test_split(X_scaled, y, test_size=0.2, random_state=42)\n",
    "\n",
    "model = LogisticRegression(class_weight='balanced') #that way i oversample and i balance the set, however r2 drops\n",
    "model.fit(x_train, y_train)\n",
    "\n",
    "y_pred = model.predict(x_test)\n",
    "y_pred_proba = model.predict_proba(x_test)\n",
    "\n",
    "r2 = r2_score(pd.get_dummies(y_test), y_pred_proba)\n",
    "print(f\"R-squared (R2): {r2:.2f}\")\n",
    "\n",
    "acc = accuracy_score(y_test, y_pred)\n",
    "print(\"Logistic Regression model accuracy (in %):\", acc)\n",
    "\n",
    "print(\"Classification Report:\")\n",
    "print(classification_report(y_test, y_pred))\n"
   ],
   "outputs": [
    {
     "name": "stdout",
     "output_type": "stream",
     "text": [
      "R-squared (R2): 0.09\n",
      "Logistic Regression model accuracy (in %): 0.6385542168674698\n",
      "Classification Report:\n",
      "              precision    recall  f1-score   support\n",
      "\n",
      "           0       0.69      0.64      0.67       562\n",
      "           1       0.58      0.63      0.60       434\n",
      "\n",
      "    accuracy                           0.64       996\n",
      "   macro avg       0.64      0.64      0.64       996\n",
      "weighted avg       0.64      0.64      0.64       996\n",
      "\n"
     ]
    }
   ],
   "execution_count": 160
  },
  {
   "metadata": {},
   "cell_type": "markdown",
   "source": "#### Confusion matrix"
  },
  {
   "metadata": {
    "ExecuteTime": {
     "end_time": "2024-12-20T11:27:30.035785Z",
     "start_time": "2024-12-20T11:27:29.948557Z"
    }
   },
   "cell_type": "code",
   "source": [
    "cm = confusion_matrix(y_test, y_pred)\n",
    "disp = ConfusionMatrixDisplay(confusion_matrix=cm, display_labels=model.classes_)\n",
    "disp.plot(cmap='Blues')\n",
    "plt.title(\"Confusion Matrix\")\n",
    "plt.show()"
   ],
   "outputs": [
    {
     "data": {
      "text/plain": [
       "<Figure size 640x480 with 2 Axes>"
      ],
      "image/png": "[encoded data removed]"
     },
     "metadata": {},
     "output_type": "display_data"
    }
   ],
   "execution_count": 161
  },
  {
   "metadata": {},
   "cell_type": "markdown",
   "source": "#### Feature importance"
  },
  {
   "metadata": {
    "ExecuteTime": {
     "end_time": "2024-12-20T11:27:50.626562Z",
     "start_time": "2024-12-20T11:27:50.231298Z"
    }
   },
   "cell_type": "code",
   "source": [
    "feature_importance = pd.DataFrame({\n",
    "    'Feature': X.columns,\n",
    "    'Coefficient': model.coef_[0] \n",
    "}).sort_values(by='Coefficient', ascending=True)\n",
    "\n",
    "plt.figure(figsize=(18, 16))\n",
    "plt.barh(feature_importance['Feature'], feature_importance['Coefficient'], color='skyblue')\n",
    "plt.xlabel('Coefficient Value')\n",
    "plt.ylabel('Feature')\n",
    "plt.title('Feature Importance (Logistic Regression Coefficients)')\n",
    "plt.grid(axis='x', linestyle='--', alpha=0.7)\n",
    "plt.show()"
   ],
   "outputs": [
    {
     "data": {
      "text/plain": [
       "<Figure size 1800x1600 with 1 Axes>"
      ],
      "image/png": "[encoded data removed]"
     },
     "metadata": {},
     "output_type": "display_data"
    }
   ],
   "execution_count": 163
  },
  {
   "metadata": {},
   "cell_type": "markdown",
   "source": "#### Balancing the set"
  },
  {
   "metadata": {},
   "cell_type": "markdown",
   "source": "##### Hyperparameter tuning"
  },
  {
   "metadata": {
    "ExecuteTime": {
     "end_time": "2024-12-20T11:13:51.029729Z",
     "start_time": "2024-12-20T11:13:50.808058Z"
    }
   },
   "cell_type": "code",
   "source": [
    "# Define the parameter grid for tuning\n",
    "param_grid = {'C': [0.01, 0.1, 1, 10], 'solver': ['liblinear', 'lbfgs']}\n",
    "\n",
    "grid_search = GridSearchCV(LogisticRegression(max_iter=1000), param_grid, cv=5, scoring='r2')\n",
    "grid_search.fit(x_train, y_train)\n",
    "\n",
    "print(\"Best Parameters:\", grid_search.best_params_)\n",
    "\n",
    "best_model = grid_search.best_estimator_\n",
    "\n",
    "y_pred = best_model.predict(x_test)\n",
    "y_pred_proba = best_model.predict_proba(x_test)\n",
    "\n",
    "r2 = r2_score(pd.get_dummies(y_test), y_pred_proba)\n",
    "print(f\"R-squared (R²): {r2:.2f}\")\n",
    "\n",
    "acc = accuracy_score(y_test, y_pred)\n",
    "print(\"Logistic Regression model accuracy (in %):\", acc * 100)\n",
    "\n",
    "print(\"Classification Report:\")\n",
    "print(classification_report(y_test, y_pred))\n",
    "\n",
    "disp = ConfusionMatrixDisplay.from_estimator(best_model, x_test, y_test, display_labels=['Blue', 'Red'], cmap='Blues')\n",
    "disp.ax_.set_title(\"Confusion Matrix (Tuned Model)\")\n",
    "plt.show()\n"
   ],
   "outputs": [
    {
     "name": "stdout",
     "output_type": "stream",
     "text": [
      "Best Parameters: {'C': 0.01, 'solver': 'liblinear'}\n",
      "R-squared (R²): 0.06\n",
      "Logistic Regression model accuracy (in %): 62.44979919678715\n",
      "Classification Report:\n",
      "              precision    recall  f1-score   support\n",
      "\n",
      "           0       0.63      0.83      0.71       562\n",
      "           1       0.62      0.36      0.45       434\n",
      "\n",
      "    accuracy                           0.62       996\n",
      "   macro avg       0.62      0.59      0.58       996\n",
      "weighted avg       0.62      0.62      0.60       996\n",
      "\n"
     ]
    },
    {
     "data": {
      "text/plain": [
       "<Figure size 640x480 with 2 Axes>"
      ],
      "image/png": "[encoded data removed]"
     },
     "metadata": {},
     "output_type": "display_data"
    }
   ],
   "execution_count": 144
  },
  {
   "metadata": {},
   "cell_type": "markdown",
   "source": "##### Undersampling"
  },
  {
   "metadata": {},
   "cell_type": "code",
   "source": [
    "# Combine features and target into a single DataFrame\n",
    "data_combined = pd.concat([pd.DataFrame(X), y.reset_index(drop=True)], axis=1)\n",
    "data_combined.columns = list(X.columns) + ['Winner']\n",
    "\n",
    "# Separate the minority and majority classes\n",
    "majority_class = data_combined[data_combined['Winner'] == 0]  # Blue\n",
    "minority_class = data_combined[data_combined['Winner'] == 1]  # Red\n",
    "\n",
    "# Undersample the majority class\n",
    "majority_undersampled = resample(majority_class,\n",
    "                                  replace=False,  # Sample without replacement\n",
    "                                  n_samples=len(minority_class),  # Match minority class size\n",
    "                                  random_state=42)\n",
    "\n",
    "# Combine the undersampled majority class with the minority class\n",
    "undersampled_data = pd.concat([majority_undersampled, minority_class])\n",
    "\n",
    "X_undersampled = undersampled_data.drop(columns=['Winner'])\n",
    "y_undersampled = undersampled_data['Winner']\n",
    "\n",
    "X_train, X_test, y_train, y_test = train_test_split(X_undersampled, y_undersampled, test_size=0.2, random_state=42)\n",
    "\n",
    "model = LogisticRegression()\n",
    "model.fit(X_train, y_train)\n",
    "\n",
    "# If they do not match, slice y_pred_proba to match y_test\n",
    "if len(y_test) != len(y_pred_proba):\n",
    "    y_pred_proba = y_pred_proba[:len(y_test)]  # Ensure lengths match\n",
    "\n",
    "y_test_encoded = pd.get_dummies(y_test)\n",
    "\n",
    "r2 = r2_score(y_test_encoded, y_pred_proba)\n",
    "print(f\"R-squared (R²): {r2:.2f}\")\n",
    "\n",
    "y_pred = model.predict(X_test)\n",
    "print(\"Classification Report:\")\n",
    "print(classification_report(y_test, y_pred))"
   ],
   "outputs": [],
   "execution_count": null
  },
  {
   "metadata": {},
   "cell_type": "code",
   "source": [
    "# Confusion matrix for Undersampling\n",
    "disp = ConfusionMatrixDisplay.from_estimator(model, X_test, y_test, display_labels=['Blue', 'Red'], cmap='Blues')\n",
    "disp.ax_.set_title(\"Confusion Matrix (Undersampled Data)\")\n",
    "plt.show()"
   ],
   "outputs": [],
   "execution_count": null
  },
  {
   "metadata": {},
   "cell_type": "markdown",
   "source": "##### Oversampling"
  },
  {
   "metadata": {
    "ExecuteTime": {
     "end_time": "2024-12-20T12:48:31.569357Z",
     "start_time": "2024-12-20T12:48:30.953577Z"
    }
   },
   "cell_type": "code",
   "source": [
    "X = pd.DataFrame(X_scaled, columns=X.columns) \n",
    "y = y \n",
    "\n",
    "smote = SMOTE(random_state=42)\n",
    "X_resampled, y_resampled = smote.fit_resample(X, y)\n",
    "\n",
    "# print(\"Class distribution after SMOTE:\")\n",
    "# print(y_resampled.value_counts())\n",
    "\n",
    "X_train, X_test, y_train, y_test = train_test_split(X_resampled, y_resampled, test_size=0.2, random_state=42)\n",
    "\n",
    "model = LogisticRegression(max_iter=1000)\n",
    "model.fit(X_train, y_train)\n",
    "\n",
    "r2 = r2_score(y_test_encoded, y_pred_proba)\n",
    "print(f\"R-squared (R²): {r2:.2f}\")\n",
    "\n",
    "y_pred = model.predict(X_test)\n",
    "print(\"Classification Report (Oversampled Data):\")\n",
    "print(classification_report(y_test, y_pred))\n"
   ],
   "outputs": [
    {
     "ename": "ValueError",
     "evalue": "Found input variables with inconsistent numbers of samples: [856, 996]",
     "output_type": "error",
     "traceback": [
      "\u001B[0;31m---------------------------------------------------------------------------\u001B[0m",
      "\u001B[0;31mValueError\u001B[0m                                Traceback (most recent call last)",
      "Cell \u001B[0;32mIn[164], line 15\u001B[0m\n\u001B[1;32m     12\u001B[0m model \u001B[38;5;241m=\u001B[39m LogisticRegression(max_iter\u001B[38;5;241m=\u001B[39m\u001B[38;5;241m1000\u001B[39m)\n\u001B[1;32m     13\u001B[0m model\u001B[38;5;241m.\u001B[39mfit(X_train, y_train)\n\u001B[0;32m---> 15\u001B[0m r2 \u001B[38;5;241m=\u001B[39m \u001B[43mr2_score\u001B[49m\u001B[43m(\u001B[49m\u001B[43my_test_encoded\u001B[49m\u001B[43m,\u001B[49m\u001B[43m \u001B[49m\u001B[43my_pred_proba\u001B[49m\u001B[43m)\u001B[49m\n\u001B[1;32m     16\u001B[0m \u001B[38;5;28mprint\u001B[39m(\u001B[38;5;124mf\u001B[39m\u001B[38;5;124m\"\u001B[39m\u001B[38;5;124mR-squared (R²): \u001B[39m\u001B[38;5;132;01m{\u001B[39;00mr2\u001B[38;5;132;01m:\u001B[39;00m\u001B[38;5;124m.2f\u001B[39m\u001B[38;5;132;01m}\u001B[39;00m\u001B[38;5;124m\"\u001B[39m)\n\u001B[1;32m     18\u001B[0m y_pred \u001B[38;5;241m=\u001B[39m model\u001B[38;5;241m.\u001B[39mpredict(X_test)\n",
      "File \u001B[0;32m~/Desktop/Fontys/Semester5/MinorAI/PythonCR/Personal project/.venv/lib/python3.11/site-packages/sklearn/utils/_param_validation.py:213\u001B[0m, in \u001B[0;36mvalidate_params.<locals>.decorator.<locals>.wrapper\u001B[0;34m(*args, **kwargs)\u001B[0m\n\u001B[1;32m    207\u001B[0m \u001B[38;5;28;01mtry\u001B[39;00m:\n\u001B[1;32m    208\u001B[0m     \u001B[38;5;28;01mwith\u001B[39;00m config_context(\n\u001B[1;32m    209\u001B[0m         skip_parameter_validation\u001B[38;5;241m=\u001B[39m(\n\u001B[1;32m    210\u001B[0m             prefer_skip_nested_validation \u001B[38;5;129;01mor\u001B[39;00m global_skip_validation\n\u001B[1;32m    211\u001B[0m         )\n\u001B[1;32m    212\u001B[0m     ):\n\u001B[0;32m--> 213\u001B[0m         \u001B[38;5;28;01mreturn\u001B[39;00m \u001B[43mfunc\u001B[49m\u001B[43m(\u001B[49m\u001B[38;5;241;43m*\u001B[39;49m\u001B[43margs\u001B[49m\u001B[43m,\u001B[49m\u001B[43m \u001B[49m\u001B[38;5;241;43m*\u001B[39;49m\u001B[38;5;241;43m*\u001B[39;49m\u001B[43mkwargs\u001B[49m\u001B[43m)\u001B[49m\n\u001B[1;32m    214\u001B[0m \u001B[38;5;28;01mexcept\u001B[39;00m InvalidParameterError \u001B[38;5;28;01mas\u001B[39;00m e:\n\u001B[1;32m    215\u001B[0m     \u001B[38;5;66;03m# When the function is just a wrapper around an estimator, we allow\u001B[39;00m\n\u001B[1;32m    216\u001B[0m     \u001B[38;5;66;03m# the function to delegate validation to the estimator, but we replace\u001B[39;00m\n\u001B[1;32m    217\u001B[0m     \u001B[38;5;66;03m# the name of the estimator by the name of the function in the error\u001B[39;00m\n\u001B[1;32m    218\u001B[0m     \u001B[38;5;66;03m# message to avoid confusion.\u001B[39;00m\n\u001B[1;32m    219\u001B[0m     msg \u001B[38;5;241m=\u001B[39m re\u001B[38;5;241m.\u001B[39msub(\n\u001B[1;32m    220\u001B[0m         \u001B[38;5;124mr\u001B[39m\u001B[38;5;124m\"\u001B[39m\u001B[38;5;124mparameter of \u001B[39m\u001B[38;5;124m\\\u001B[39m\u001B[38;5;124mw+ must be\u001B[39m\u001B[38;5;124m\"\u001B[39m,\n\u001B[1;32m    221\u001B[0m         \u001B[38;5;124mf\u001B[39m\u001B[38;5;124m\"\u001B[39m\u001B[38;5;124mparameter of \u001B[39m\u001B[38;5;132;01m{\u001B[39;00mfunc\u001B[38;5;241m.\u001B[39m\u001B[38;5;18m__qualname__\u001B[39m\u001B[38;5;132;01m}\u001B[39;00m\u001B[38;5;124m must be\u001B[39m\u001B[38;5;124m\"\u001B[39m,\n\u001B[1;32m    222\u001B[0m         \u001B[38;5;28mstr\u001B[39m(e),\n\u001B[1;32m    223\u001B[0m     )\n",
      "File \u001B[0;32m~/Desktop/Fontys/Semester5/MinorAI/PythonCR/Personal project/.venv/lib/python3.11/site-packages/sklearn/metrics/_regression.py:1204\u001B[0m, in \u001B[0;36mr2_score\u001B[0;34m(y_true, y_pred, sample_weight, multioutput, force_finite)\u001B[0m\n\u001B[1;32m   1198\u001B[0m xp, _, device_ \u001B[38;5;241m=\u001B[39m get_namespace_and_device(\n\u001B[1;32m   1199\u001B[0m     y_true, y_pred, sample_weight, multioutput\n\u001B[1;32m   1200\u001B[0m )\n\u001B[1;32m   1202\u001B[0m dtype \u001B[38;5;241m=\u001B[39m _find_matching_floating_dtype(y_true, y_pred, sample_weight, xp\u001B[38;5;241m=\u001B[39mxp)\n\u001B[0;32m-> 1204\u001B[0m _, y_true, y_pred, multioutput \u001B[38;5;241m=\u001B[39m \u001B[43m_check_reg_targets\u001B[49m\u001B[43m(\u001B[49m\n\u001B[1;32m   1205\u001B[0m \u001B[43m    \u001B[49m\u001B[43my_true\u001B[49m\u001B[43m,\u001B[49m\u001B[43m \u001B[49m\u001B[43my_pred\u001B[49m\u001B[43m,\u001B[49m\u001B[43m \u001B[49m\u001B[43mmultioutput\u001B[49m\u001B[43m,\u001B[49m\u001B[43m \u001B[49m\u001B[43mdtype\u001B[49m\u001B[38;5;241;43m=\u001B[39;49m\u001B[43mdtype\u001B[49m\u001B[43m,\u001B[49m\u001B[43m \u001B[49m\u001B[43mxp\u001B[49m\u001B[38;5;241;43m=\u001B[39;49m\u001B[43mxp\u001B[49m\n\u001B[1;32m   1206\u001B[0m \u001B[43m\u001B[49m\u001B[43m)\u001B[49m\n\u001B[1;32m   1207\u001B[0m check_consistent_length(y_true, y_pred, sample_weight)\n\u001B[1;32m   1209\u001B[0m \u001B[38;5;28;01mif\u001B[39;00m _num_samples(y_pred) \u001B[38;5;241m<\u001B[39m \u001B[38;5;241m2\u001B[39m:\n",
      "File \u001B[0;32m~/Desktop/Fontys/Semester5/MinorAI/PythonCR/Personal project/.venv/lib/python3.11/site-packages/sklearn/metrics/_regression.py:111\u001B[0m, in \u001B[0;36m_check_reg_targets\u001B[0;34m(y_true, y_pred, multioutput, dtype, xp)\u001B[0m\n\u001B[1;32m     76\u001B[0m \u001B[38;5;250m\u001B[39m\u001B[38;5;124;03m\"\"\"Check that y_true and y_pred belong to the same regression task.\u001B[39;00m\n\u001B[1;32m     77\u001B[0m \n\u001B[1;32m     78\u001B[0m \u001B[38;5;124;03mParameters\u001B[39;00m\n\u001B[0;32m   (...)\u001B[0m\n\u001B[1;32m    107\u001B[0m \u001B[38;5;124;03m    correct keyword.\u001B[39;00m\n\u001B[1;32m    108\u001B[0m \u001B[38;5;124;03m\"\"\"\u001B[39;00m\n\u001B[1;32m    109\u001B[0m xp, _ \u001B[38;5;241m=\u001B[39m get_namespace(y_true, y_pred, multioutput, xp\u001B[38;5;241m=\u001B[39mxp)\n\u001B[0;32m--> 111\u001B[0m \u001B[43mcheck_consistent_length\u001B[49m\u001B[43m(\u001B[49m\u001B[43my_true\u001B[49m\u001B[43m,\u001B[49m\u001B[43m \u001B[49m\u001B[43my_pred\u001B[49m\u001B[43m)\u001B[49m\n\u001B[1;32m    112\u001B[0m y_true \u001B[38;5;241m=\u001B[39m check_array(y_true, ensure_2d\u001B[38;5;241m=\u001B[39m\u001B[38;5;28;01mFalse\u001B[39;00m, dtype\u001B[38;5;241m=\u001B[39mdtype)\n\u001B[1;32m    113\u001B[0m y_pred \u001B[38;5;241m=\u001B[39m check_array(y_pred, ensure_2d\u001B[38;5;241m=\u001B[39m\u001B[38;5;28;01mFalse\u001B[39;00m, dtype\u001B[38;5;241m=\u001B[39mdtype)\n",
      "File \u001B[0;32m~/Desktop/Fontys/Semester5/MinorAI/PythonCR/Personal project/.venv/lib/python3.11/site-packages/sklearn/utils/validation.py:457\u001B[0m, in \u001B[0;36mcheck_consistent_length\u001B[0;34m(*arrays)\u001B[0m\n\u001B[1;32m    455\u001B[0m uniques \u001B[38;5;241m=\u001B[39m np\u001B[38;5;241m.\u001B[39munique(lengths)\n\u001B[1;32m    456\u001B[0m \u001B[38;5;28;01mif\u001B[39;00m \u001B[38;5;28mlen\u001B[39m(uniques) \u001B[38;5;241m>\u001B[39m \u001B[38;5;241m1\u001B[39m:\n\u001B[0;32m--> 457\u001B[0m     \u001B[38;5;28;01mraise\u001B[39;00m \u001B[38;5;167;01mValueError\u001B[39;00m(\n\u001B[1;32m    458\u001B[0m         \u001B[38;5;124m\"\u001B[39m\u001B[38;5;124mFound input variables with inconsistent numbers of samples: \u001B[39m\u001B[38;5;132;01m%r\u001B[39;00m\u001B[38;5;124m\"\u001B[39m\n\u001B[1;32m    459\u001B[0m         \u001B[38;5;241m%\u001B[39m [\u001B[38;5;28mint\u001B[39m(l) \u001B[38;5;28;01mfor\u001B[39;00m l \u001B[38;5;129;01min\u001B[39;00m lengths]\n\u001B[1;32m    460\u001B[0m     )\n",
      "\u001B[0;31mValueError\u001B[0m: Found input variables with inconsistent numbers of samples: [856, 996]"
     ]
    }
   ],
   "execution_count": 164
  },
  {
   "metadata": {},
   "cell_type": "code",
   "source": [
    "# Confusion matrix for oversampling\n",
    "disp = ConfusionMatrixDisplay.from_estimator(model, X_test, y_test, display_labels=['Blue', 'Red'], cmap='Blues')\n",
    "disp.ax_.set_title(\"Confusion Matrix (Oversampled Data)\")\n",
    "plt.show()"
   ],
   "outputs": [],
   "execution_count": null
  },
  {
   "metadata": {},
   "cell_type": "markdown",
   "source": "## Example fight prediction"
  },
  {
   "metadata": {},
   "cell_type": "code",
   "source": [
    "# Prepare data for the simulated match\n",
    "# Mapping fighter stats into a similar structure as the master dataset\n",
    "match_data = {\n",
    "    \"RedAvgSigStrLanded\": [4.1],  # Khabib's SLpM\n",
    "    \"RedAvgSubAtt\": [0.8],       # Khabib's Sub Avg\n",
    "    \"RedAvgTDLanded\": [5.32],    # Khabib's TD Avg\n",
    "    \"BlueAvgSigStrLanded\": [2.0],  # Islam's SLpM\n",
    "    \"BlueAvgSubAtt\": [1.0],        # Islam's Sub Avg\n",
    "    \"BlueAvgTDLanded\": [3.46],     # Islam's TD Avg\n",
    "    # Additional features can be filled or averaged if required\n",
    "}\n",
    "\n",
    "# Convert match data to DataFrame and fill in missing columns with 0\n",
    "match_df = pd.DataFrame(match_data)\n",
    "for col in X.columns:\n",
    "    if col not in match_df.columns:\n",
    "        match_df[col] = 0\n",
    "\n",
    "# Scale the match data\n",
    "match_scaled = scaler.transform(match_df[X.columns])\n",
    "\n",
    "# Predict probabilities for the match\n",
    "match_probabilities = model.predict_proba(match_scaled)\n",
    "\n",
    "# Map predictions to outcome labels\n",
    "outcome_probabilities = dict(zip(model.classes_, match_probabilities[0]))\n",
    "\n",
    "outcome_probabilities\n"
   ],
   "outputs": [],
   "execution_count": null
  },
  {
   "metadata": {},
   "cell_type": "markdown",
   "source": "# Data from Kaggle (Data)"
  },
  {
   "metadata": {},
   "cell_type": "code",
   "source": [
    "ufc_data = pd.read_excel('UFCData/data.xlsx')\n",
    "\n",
    "ufc_data.column"
   ],
   "outputs": [],
   "execution_count": null
  },
  {
   "metadata": {},
   "cell_type": "code",
   "source": "",
   "outputs": [],
   "execution_count": null
  },
  {
   "metadata": {},
   "cell_type": "markdown",
   "source": "## Creating a separate sheet with statistics from both fighters"
  },
  {
   "metadata": {},
   "cell_type": "code",
   "source": [
    "## Printing all column names for analysis\n",
    "\n",
    "pd.options.display.max_columns = None\n",
    "\n",
    "column_names_ufc_data = ufc_data.columns\n",
    "\n",
    "print(list(ufc_data.columns))"
   ],
   "outputs": [],
   "execution_count": null
  },
  {
   "metadata": {},
   "cell_type": "code",
   "source": [
    "data = pd.ExcelFile('data.xlsx')\n",
    "\n",
    "sheet_data = data.parse(data.sheet_names[0])\n",
    "\n",
    "horizontal_list = [f\"{col} ({dtype})\" for col, dtype in zip(sheet_data.columns, sheet_data.dtypes)]\n",
    "\n",
    "horizontal_list"
   ],
   "outputs": [],
   "execution_count": null
  },
  {
   "metadata": {},
   "cell_type": "code",
   "source": [
    "stance_mapping = {'Switch' : 0, 'Orthodox': 1, 'Southpaw': 2}\n",
    "\n",
    "ufc_data['R_Stance'] = ufc_data['R_Stance'].map(stance_mapping)\n",
    "\n",
    "# ufc_data.to_excel('Updated_UFC_File.xlsx', index=False)\n",
    "\n",
    "ufc_data.head()"
   ],
   "outputs": [],
   "execution_count": null
  },
  {
   "metadata": {},
   "cell_type": "code",
   "source": [
    "stance_mapping = {'Switch' : 0, 'Orthodox': 1, 'Southpaw': 2}\n",
    "\n",
    "ufc_data['B_Stance'] = ufc_data['B_Stance'].map(stance_mapping)\n",
    "ufc_data['R_Stance'] = ufc_data['R_Stance'].map(stance_mapping)\n",
    "\n",
    "ufc_data.to_excel('Updated_UFC_File.xlsx', index=False)\n",
    "\n",
    "ufc_data.head()"
   ],
   "outputs": [],
   "execution_count": null
  },
  {
   "metadata": {},
   "cell_type": "markdown",
   "source": "## Mapping 'Winner' to -1, 0, 1"
  },
  {
   "metadata": {},
   "cell_type": "code",
   "source": [
    "print(ufc_data['Winner'].unique())\n",
    "ufc_data['Winner'] = ufc_data['Winner'].map({'Red': 1, 'Blue': -1, 'Draw': 0})\n",
    "\n",
    "ufc_data.head()\n",
    "\n",
    "\n",
    "# ufc_data['Winner'] = ufc_data['Winner'].map({'Red': 1, 'Blue': -1, 'Draw': 0})\n",
    "# \n",
    "# ufc_data.head(20)"
   ],
   "outputs": [],
   "execution_count": null
  },
  {
   "metadata": {},
   "cell_type": "code",
   "source": [
    "Combined_stats = [\n",
    "    # Blue Corner Stats\n",
    "    'B_avg_KD', 'B_avg_opp_KD', 'B_avg_SIG_STR_pct', 'B_avg_opp_SIG_STR_pct',\n",
    "    'B_avg_TD_pct', 'B_avg_opp_TD_pct', 'B_avg_SUB_ATT', 'B_avg_opp_SUB_ATT',\n",
    "    'B_avg_REV', 'B_avg_opp_REV', 'B_avg_SIG_STR_att', 'B_avg_SIG_STR_landed',\n",
    "    'B_avg_opp_SIG_STR_att', 'B_avg_opp_SIG_STR_landed', 'B_avg_TOTAL_STR_att',\n",
    "    'B_avg_TOTAL_STR_landed', 'B_avg_opp_TOTAL_STR_att', 'B_avg_opp_TOTAL_STR_landed',\n",
    "    'B_avg_TD_att', 'B_avg_TD_landed', 'B_avg_opp_TD_att', 'B_avg_opp_TD_landed',\n",
    "    'B_avg_HEAD_att', 'B_avg_HEAD_landed', 'B_avg_opp_HEAD_att', 'B_avg_opp_HEAD_landed',\n",
    "    'B_avg_BODY_att', 'B_avg_BODY_landed', 'B_avg_opp_BODY_att', 'B_avg_opp_BODY_landed',\n",
    "    'B_avg_LEG_att', 'B_avg_LEG_landed', 'B_avg_opp_LEG_att', 'B_avg_opp_LEG_landed',\n",
    "    'B_avg_DISTANCE_att', 'B_avg_DISTANCE_landed', 'B_avg_opp_DISTANCE_att',\n",
    "    'B_avg_opp_DISTANCE_landed', 'B_avg_CLINCH_att', 'B_avg_CLINCH_landed',\n",
    "    'B_avg_opp_CLINCH_att', 'B_avg_opp_CLINCH_landed', 'B_avg_GROUND_att',\n",
    "    'B_avg_GROUND_landed', 'B_avg_opp_GROUND_att', 'B_avg_opp_GROUND_landed',\n",
    "    'B_avg_CTRL_time(seconds)', 'B_avg_opp_CTRL_time(seconds)', 'B_total_time_fought(seconds)',\n",
    "    'B_Height_cms', 'B_Reach_cms',\n",
    "    \n",
    "# ]\n",
    "# \n",
    "# R_stats = [\n",
    "    # Red Corner Stats\n",
    "    'R_avg_KD', 'R_avg_SIG_STR_pct', 'R_avg_TD_pct', 'R_avg_SUB_ATT', 'R_avg_REV',\n",
    "    'R_avg_SIG_STR_landed', 'R_avg_DISTANCE_landed', 'R_avg_CLINCH_landed',\n",
    "    'R_avg_opp_KD', 'R_avg_opp_SIG_STR_pct', 'R_avg_opp_TD_pct', 'R_avg_opp_SUB_ATT',\n",
    "    'R_avg_opp_REV', 'R_avg_SIG_STR_att', 'R_avg_opp_SIG_STR_att', 'R_avg_opp_SIG_STR_landed',\n",
    "    'R_avg_TOTAL_STR_att', 'R_avg_TOTAL_STR_landed', 'R_avg_opp_TOTAL_STR_att',\n",
    "    'R_avg_opp_TOTAL_STR_landed', 'R_avg_TD_att', 'R_avg_TD_landed', 'R_avg_opp_TD_att',\n",
    "    'R_avg_opp_TD_landed', 'R_avg_HEAD_att', 'R_avg_HEAD_landed', 'R_avg_opp_HEAD_att',\n",
    "    'R_avg_opp_HEAD_landed', 'R_avg_BODY_att', 'R_avg_BODY_landed', 'R_avg_opp_BODY_att',\n",
    "    'R_avg_opp_BODY_landed', 'R_avg_LEG_att', 'R_avg_LEG_landed', 'R_avg_opp_LEG_att',\n",
    "    'R_avg_opp_LEG_landed', 'R_avg_DISTANCE_att', 'R_avg_opp_DISTANCE_att',\n",
    "    'R_avg_CLINCH_att', 'R_avg_opp_CLINCH_att', 'R_avg_GROUND_att', 'R_avg_GROUND_landed',\n",
    "    'R_avg_opp_GROUND_att', 'R_avg_opp_GROUND_landed', 'R_avg_CTRL_time(seconds)',\n",
    "    'R_avg_opp_CTRL_time(seconds)', 'R_total_time_fought(seconds)',\n",
    "    'R_Height_cms', 'R_Reach_cms',\n",
    "]\n",
    "\n",
    "sheet_data['R_win_by_KO/TKO'] = sheet_data.apply(\n",
    "    lambda row: 1 if row['Winner'] == 'Decision - Majority' else 0, axis=1\n",
    ")\n",
    "\n",
    "analysis_data = sheet_data[Combined_stats + ['R_win_by_KO/TKO']]\n",
    "\n",
    "analysis_data = analysis_data.dropna()\n",
    "\n",
    "correlation_matrix = analysis_data.corr()\n",
    "\n",
    "plt.figure(figsize=(40, 30))\n",
    "sns.heatmap(correlation_matrix, annot=True, cmap='coolwarm')\n",
    "plt.title('Correlation Heatmap with Fight_Win_by_Decision_Majority')\n",
    "# plt.show()\n"
   ],
   "outputs": [],
   "execution_count": null
  },
  {
   "metadata": {},
   "cell_type": "markdown",
   "source": [
    "## Modelling\n",
    "The F1 Score is a metric used to evaluate a classification model. It combines precision and recall into a single metric."
   ]
  },
  {
   "metadata": {},
   "cell_type": "code",
   "source": [
    "from sklearn.metrics import f1_score\n",
    "from sklearn.multioutput import MultiOutputClassifier\n",
    "\n",
    "X = ufc_data[Combined_stats]\n",
    "y = ufc_data[['Winner']]\n",
    "\n",
    "X = X.fillna(0)\n",
    "y = y.fillna(0)\n",
    "\n",
    "X_train, X_test, y_train, y_test = train_test_split(X, y, test_size=0.2, random_state=42)\n",
    "\n",
    "# Multilabel Classification Model\n",
    "rf_model = RandomForestClassifier(random_state=42)\n",
    "multi_output_model = MultiOutputClassifier(rf_model)\n",
    "\n",
    "multi_output_model.fit(X_train, y_train)\n",
    "\n",
    "y_pred = multi_output_model.predict(X_test)\n",
    "\n",
    "for i, target in enumerate(y.columns):\n",
    "    print(f\"Evaluating {target}:\")\n",
    "    print(\"Accuracy:\", accuracy_score(y_test[target], y_pred[:, i]))\n",
    "    print(\"F1 Score:\", f1_score(y_test[target], y_pred[:, i], average='weighted'))\n",
    "\n",
    "# for i, target in enumerate(y.columns):\n",
    "#     print(f\"Feature Importance for {target}:\")\n",
    "#     feature_importances = pd.DataFrame({\n",
    "#         'Feature': X_train.columns,\n",
    "#         'Importance': multi_output_model.estimators_[i].feature_importances_\n",
    "#     }).sort_values(by='Importance', ascending=False)\n",
    "#     print(feature_importances)"
   ],
   "outputs": [],
   "execution_count": null
  },
  {
   "metadata": {},
   "cell_type": "markdown",
   "source": [
    "## Random Forest Regressor\n",
    "MSE needs to be a low number, this indicates that the model is performing well\n",
    "\n",
    "R^2 needs to be close to one indicating better fit\n",
    "\n",
    "If any R2R2 values are negative, it means the model performs worse than predicting the mean of the target variable"
   ]
  },
  {
   "metadata": {},
   "cell_type": "code",
   "source": [
    "from sklearn.ensemble import RandomForestRegressor\n",
    "from sklearn.metrics import r2_score, mean_squared_error\n",
    "\n",
    "rf_regressor = RandomForestRegressor(random_state=42)\n",
    "\n",
    "rf_regressor.fit(X_train, y_train)\n",
    "\n",
    "y_pred = rf_regressor.predict(X_test)\n",
    "\n",
    "threshold = 0.1\n",
    "\n",
    "scores = []\n",
    "for i, col in enumerate(y.columns):\n",
    "\n",
    "    r2 = r2_score(y_test[col], y_pred[:, i])\n",
    "    \n",
    "    mse = mean_squared_error(y_test[col], y_pred[:, i])\n",
    "    \n",
    "    correct_predictions = abs(y_pred[:, i] - y_test[col]) <= threshold\n",
    "    accuracy = correct_predictions.sum() / len(y_test[col])\n",
    "    \n",
    "    scores.append({'Target': col, 'R2 Score': r2, 'MSE': mse, 'Accuracy': accuracy})\n",
    "    print(f\"Scores for {col}:\")\n",
    "    print(f\"  R² Score: {r2:.4f}\")\n",
    "    print(f\"  MSE: {mse:.4f}\")\n",
    "    print(f\"  Accuracy: {accuracy:.4f}\")\n",
    "\n",
    "scores_df = pd.DataFrame(scores)\n",
    "\n",
    "print(scores_df)\n"
   ],
   "outputs": [],
   "execution_count": null
  },
  {
   "metadata": {},
   "cell_type": "markdown",
   "source": "## Gradient Boosting (XGBoost)"
  },
  {
   "metadata": {},
   "cell_type": "code",
   "source": [
    "from xgboost import XGBRegressor\n",
    "from sklearn.metrics import r2_score, mean_squared_error\n",
    "\n",
    "# Initialize placeholders for R² and MSE scores\n",
    "r2_scores = []\n",
    "mse_scores = []\n",
    "\n",
    "# Train and evaluate a separate XGBRegressor for each target column\n",
    "for col in y.columns:\n",
    "    # Train a model for the current target\n",
    "    xgb_model = XGBRegressor(objective='reg:squarederror', random_state=42)\n",
    "    xgb_model.fit(X_train, y_train[col])  # Train on the current target\n",
    "    \n",
    "    # Predict for the current target\n",
    "    y_pred_xgb = xgb_model.predict(X_test)\n",
    "    \n",
    "    # Evaluate R² and MSE\n",
    "    r2 = r2_score(y_test[col], y_pred_xgb)\n",
    "    mse = mean_squared_error(y_test[col], y_pred_xgb)\n",
    "    \n",
    "    # Store scores\n",
    "    r2_scores.append(r2)\n",
    "    mse_scores.append(mse)\n",
    "    \n",
    "    # Print scores for the current target\n",
    "    print(f\"R² Score for {col} (XGBoost): {r2}\")\n",
    "    print(f\"MSE for {col} (XGBoost): {mse}\")\n"
   ],
   "outputs": [],
   "execution_count": null
  },
  {
   "metadata": {},
   "cell_type": "markdown",
   "source": "## Support Vector Regressor"
  },
  {
   "metadata": {},
   "cell_type": "markdown",
   "source": "## Data visualization"
  },
  {
   "metadata": {},
   "cell_type": "code",
   "source": [
    "accuracy_scores = [accuracy_score(y_test[col], y_pred[:, i]) for i, col in enumerate(y.columns)]\n",
    "\n",
    "plt.bar(y.columns, accuracy_scores)\n",
    "plt.title(\"Accuracy Scores for Each Target\")\n",
    "plt.ylabel(\"Accuracy Score\")\n",
    "plt.xlabel(\"Target\")\n",
    "plt.show()\n"
   ],
   "outputs": [],
   "execution_count": null
  },
  {
   "metadata": {},
   "cell_type": "markdown",
   "source": "## Probability prediction visualization"
  },
  {
   "metadata": {},
   "cell_type": "code",
   "source": [
    "prob_df.plot(kind='bar', figsize=(10, 6))\n",
    "plt.title(\"Predicted Probabilities for KO/TKO, Submission, and Decision\")\n",
    "plt.ylabel(\"Probability\")\n",
    "plt.xlabel(\"Data Points\")\n",
    "plt.legend(loc='upper right')\n",
    "plt.show()\n"
   ],
   "outputs": [],
   "execution_count": null
  },
  {
   "metadata": {},
   "cell_type": "markdown",
   "source": "## Visualizing Feature Importances"
  },
  {
   "metadata": {},
   "cell_type": "code",
   "source": [
    "for i, target in enumerate(y.columns):\n",
    "    feature_importances = pd.DataFrame({\n",
    "        'Feature': X_train.columns,\n",
    "        'Importance': multi_output_model.estimators_[i].feature_importances_\n",
    "    }).sort_values(by='Importance', ascending=False)\n",
    "\n",
    "    # Plot the top 10 important features\n",
    "    plt.figure(figsize=(10, 6))\n",
    "    plt.barh(feature_importances['Feature'][:10], feature_importances['Importance'][:10])\n",
    "    plt.title(f\"Feature Importance for {target}\")\n",
    "    plt.xlabel(\"Importance\")\n",
    "    plt.ylabel(\"Feature\")\n",
    "    plt.gca().invert_yaxis()  # Invert y-axis for descending order\n",
    "    plt.show()\n"
   ],
   "outputs": [],
   "execution_count": null
  },
  {
   "metadata": {},
   "cell_type": "code",
   "source": [
    "from sklearn.ensemble import RandomForestClassifier\n",
    "from sklearn.model_selection import train_test_split\n",
    "from sklearn.preprocessing import StandardScaler\n",
    "\n",
    "missing_features = [col for col in R_stats if col not in ufc_data.columns]\n",
    "if missing_features:\n",
    "    print(f\"Missing features: {missing_features}\")\n",
    "else:\n",
    "    print(\"All features are present.\")\n",
    "\n",
    "X = ufc_data[R_stats]\n",
    "y = ufc_data['R_win_by_KO/TKO']\n",
    "\n",
    "X_train, X_test, y_train, y_test = train_test_split(X, y, test_size=0.2, random_state=42)\n",
    "\n",
    "scaler = StandardScaler()\n",
    "X_train = scaler.fit_transform(X_train)\n",
    "X_test = scaler.transform(X_test)\n",
    "\n",
    "rf_model = RandomForestClassifier(random_state=42)\n",
    "rf_model.fit(X_train, y_train)\n",
    "\n",
    "feature_importances = pd.DataFrame({\n",
    "    'Feature': X.columns,\n",
    "    'Importance': rf_model.feature_importances_\n",
    "}).sort_values(by='Importance', ascending=False)\n",
    "\n",
    "print(feature_importances)\n"
   ],
   "outputs": [],
   "execution_count": null
  }
 ],
 "metadata": {
  "kernelspec": {
   "display_name": ".venv",
   "language": "python",
   "name": "python3"
  },
  "language_info": {
   "codemirror_mode": {
    "name": "ipython",
    "version": 3
   },
   "file_extension": ".py",
   "mimetype": "text/x-python",
   "name": "python",
   "nbconvert_exporter": "python",
   "pygments_lexer": "ipython3",
   "version": "3.11.1"
  }
 },
 "nbformat": 4,
 "nbformat_minor": 2
}
