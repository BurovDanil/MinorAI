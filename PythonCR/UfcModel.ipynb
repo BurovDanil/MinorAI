{
 "cells": [
  {
   "cell_type": "markdown",
   "metadata": {},
   "source": [
    "# UFC prediction model"
   ]
  },
  {
   "cell_type": "code",
   "execution_count": 6,
   "metadata": {},
   "outputs": [],
   "source": [
    "\n",
    "import pandas as pd\n",
    "from sklearn.model_selection import train_test_split\n",
    "from sklearn.ensemble import RandomForestClassifier\n",
    "from sklearn.metrics import accuracy_score\n"
   ]
  },
  {
   "cell_type": "code",
   "execution_count": 12,
   "metadata": {},
   "outputs": [
    {
     "name": "stdout",
     "output_type": "stream",
     "text": [
      "                name    nickname  wins  losses  draws  height_cm  \\\n",
      "0    Robert Drysdale         NaN     7       0      0     190.50   \n",
      "1  Daniel McWilliams  The Animal    15      37      0     185.42   \n",
      "2         Dan Molina         NaN    13       9      0     177.80   \n",
      "3          Paul Ruiz         NaN     7       4      0     167.64   \n",
      "4    Collin Huckbody      All In     8       2      0     190.50   \n",
      "\n",
      "   weight_in_kg  reach_in_cm    stance date_of_birth  \\\n",
      "0         92.99          NaN  Orthodox    1981-10-05   \n",
      "1         83.91          NaN       NaN           NaN   \n",
      "2         97.98          NaN       NaN           NaN   \n",
      "3         61.23          NaN       NaN           NaN   \n",
      "4         83.91       193.04  Orthodox    1994-09-29   \n",
      "\n",
      "   significant_strikes_landed_per_minute  significant_striking_accuracy  \\\n",
      "0                                   0.00                            0.0   \n",
      "1                                   3.36                           77.0   \n",
      "2                                   0.00                            0.0   \n",
      "3                                   1.40                           33.0   \n",
      "4                                   2.05                           60.0   \n",
      "\n",
      "   significant_strikes_absorbed_per_minute  significant_strike_defence  \\\n",
      "0                                     0.00                         0.0   \n",
      "1                                     0.00                         0.0   \n",
      "2                                     5.58                        60.0   \n",
      "3                                     1.40                        75.0   \n",
      "4                                     2.73                        42.0   \n",
      "\n",
      "   average_takedowns_landed_per_15_minutes  takedown_accuracy  \\\n",
      "0                                     7.32              100.0   \n",
      "1                                     0.00                0.0   \n",
      "2                                     0.00                0.0   \n",
      "3                                     0.00                0.0   \n",
      "4                                    10.23              100.0   \n",
      "\n",
      "   takedown_defense  average_submissions_attempted_per_15_minutes  \n",
      "0               0.0                                          21.9  \n",
      "1             100.0                                          21.6  \n",
      "2               0.0                                          20.9  \n",
      "3             100.0                                          20.9  \n",
      "4               0.0                                          20.4  \n"
     ]
    }
   ],
   "source": [
    "import pandas as pd\n",
    "\n",
    "df = pd.read_csv('ufc-fighters-statistics.csv')\n",
    "print(df.head())\n",
    "# df['date_of_birth'] = pd.to_datetime(df['date_of_birth'], errors='coerce')\n",
    "\n",
    "# cleaned_data = df[df['date_of_birth'].dt.year > 1970]\n",
    "\n",
    "# cleaned_data.to_csv('cleaned_ufc_fighters.csv', index=False)\n",
    "\n",
    "# print(cleaned_data.head())"
   ]
  },
  {
   "cell_type": "markdown",
   "metadata": {},
   "source": [
    "# Section 1"
   ]
  },
  {
   "cell_type": "markdown",
   "metadata": {},
   "source": [
    "## Nested section"
   ]
  },
  {
   "cell_type": "markdown",
   "metadata": {},
   "source": [
    "# Section 2"
   ]
  },
  {
   "cell_type": "markdown",
   "metadata": {},
   "source": [
    "## Nested section"
   ]
  }
 ],
 "metadata": {
  "kernelspec": {
   "display_name": "Python 3",
   "language": "python",
   "name": "python3"
  },
  "language_info": {
   "codemirror_mode": {
    "name": "ipython",
    "version": 3
   },
   "file_extension": ".py",
   "mimetype": "text/x-python",
   "name": "python",
   "nbconvert_exporter": "python",
   "pygments_lexer": "ipython3",
   "version": "3.11.1"
  }
 },
 "nbformat": 4,
 "nbformat_minor": 2
}
